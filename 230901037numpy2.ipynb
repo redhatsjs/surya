{
 "cells": [
  {
   "cell_type": "code",
   "execution_count": 1,
   "id": "b2dc5a15",
   "metadata": {},
   "outputs": [
    {
     "name": "stdout",
     "output_type": "stream",
     "text": [
      "[3 4 5 6]\n"
     ]
    }
   ],
   "source": [
    "import numpy as np\n",
    "a=np.array([1,2,3,4,5,6,7,8,9])\n",
    "print(a[2:6])"
   ]
  },
  {
   "cell_type": "code",
   "execution_count": 4,
   "id": "d8bd7347",
   "metadata": {},
   "outputs": [
    {
     "name": "stdout",
     "output_type": "stream",
     "text": [
      "[1 3 5 7 9]\n",
      "[1 4 7]\n",
      "[1 5 9]\n"
     ]
    }
   ],
   "source": [
    "import numpy as np\n",
    "a=np.array([1,2,3,4,5,6,7,8,9])\n",
    "print(a[::2]) #slicing with a step of 2\n",
    "print(a[::3]) #slicing with a step of 3\n",
    "print(a[::4]) #slicing with a step of 4"
   ]
  },
  {
   "cell_type": "code",
   "execution_count": 5,
   "id": "0cf789a2",
   "metadata": {},
   "outputs": [
    {
     "name": "stdout",
     "output_type": "stream",
     "text": [
      "[9 8 7 6 5 4 3 2 1]\n"
     ]
    }
   ],
   "source": [
    "import numpy as np\n",
    "a=np.array([1,2,3,4,5,6,7,8,9])\n",
    "print(a[::-1]) #reversing the array"
   ]
  },
  {
   "cell_type": "code",
   "execution_count": 8,
   "id": "3ffb886e",
   "metadata": {},
   "outputs": [
    {
     "name": "stdout",
     "output_type": "stream",
     "text": [
      "[[2 3]\n",
      " [5 6]]\n"
     ]
    }
   ],
   "source": [
    "#Slicing multi-dimensional array\n",
    "import numpy as np\n",
    "a=np.array(([1,2,3],[4,5,6,],[7,8,9]))\n",
    "print(a[0:2,1:3])"
   ]
  },
  {
   "cell_type": "code",
   "execution_count": 9,
   "id": "44d69acc",
   "metadata": {},
   "outputs": [
    {
     "name": "stdout",
     "output_type": "stream",
     "text": [
      "[[1]\n",
      " [4]]\n"
     ]
    }
   ],
   "source": [
    "import numpy as np\n",
    "a=np.array(([1,2,3],[4,5,6,],[7,8,9]))\n",
    "print(a[:2,:1])"
   ]
  },
  {
   "cell_type": "code",
   "execution_count": 16,
   "id": "cecc6796",
   "metadata": {},
   "outputs": [
    {
     "name": "stdout",
     "output_type": "stream",
     "text": [
      "[1 4 7]\n",
      "[1 2 3]\n",
      "[[1 2 3]\n",
      " [7 8 9]]\n"
     ]
    }
   ],
   "source": [
    "import numpy as np\n",
    "a=np.array(([1,2,3],[4,5,6,],[7,8,9]))\n",
    "print(a[:,0])\n",
    "print(a[0,:])\n",
    "print(a[0:3:2])"
   ]
  },
  {
   "cell_type": "code",
   "execution_count": 21,
   "id": "69bd8c9e",
   "metadata": {},
   "outputs": [
    {
     "name": "stdout",
     "output_type": "stream",
     "text": [
      "10\n",
      "40\n"
     ]
    }
   ],
   "source": [
    "#Array indexing\n",
    "#1D array\n",
    "#import numpy as np\n",
    "import array\n",
    "a=array.array('i',[10,20,30,40,50])\n",
    "print(a[0])\n",
    "print(a[3])"
   ]
  },
  {
   "cell_type": "code",
   "execution_count": 22,
   "id": "78d42bcd",
   "metadata": {},
   "outputs": [
    {
     "name": "stdout",
     "output_type": "stream",
     "text": [
      "1\n",
      "8\n"
     ]
    }
   ],
   "source": [
    "#2D array\n",
    "import numpy as np\n",
    "a=np.array(([1,2,3],[4,5,6,],[7,8,9]))\n",
    "print(a[0,0])\n",
    "print(a[2,1])"
   ]
  },
  {
   "cell_type": "code",
   "execution_count": 18,
   "id": "4ce47477",
   "metadata": {},
   "outputs": [
    {
     "name": "stdout",
     "output_type": "stream",
     "text": [
      "20\n",
      "60\n",
      "[20 30 40]\n"
     ]
    }
   ],
   "source": [
    "import numpy as np\n",
    "a=np.array([10,20,30,40,50,60])\n",
    "print(a[1])\n",
    "print(a[-1])\n",
    "print(a[1:4])"
   ]
  },
  {
   "cell_type": "code",
   "execution_count": 27,
   "id": "572972bb",
   "metadata": {},
   "outputs": [
    {
     "name": "stdout",
     "output_type": "stream",
     "text": [
      "2\n"
     ]
    }
   ],
   "source": [
    "import numpy as np\n",
    "a=np.array(([1,2,3],[4,5,6,],[7,8,9]))\n",
    "print(a[(0,1)])"
   ]
  },
  {
   "cell_type": "code",
   "execution_count": 8,
   "id": "5d5ee440",
   "metadata": {},
   "outputs": [
    {
     "name": "stdout",
     "output_type": "stream",
     "text": [
      "[30 40 50]\n"
     ]
    }
   ],
   "source": [
    "#Boolean indexing\n",
    "import numpy as np\n",
    "a=np.array([10,20,30,40,50])\n",
    "print(a[a>25])"
   ]
  },
  {
   "cell_type": "code",
   "execution_count": 7,
   "id": "6916e97b",
   "metadata": {},
   "outputs": [
    {
     "name": "stdout",
     "output_type": "stream",
     "text": [
      "[20 40]\n"
     ]
    }
   ],
   "source": [
    "#Fancy indexing\n",
    "import numpy as np\n",
    "a=np.array([10,20,30,40,50])\n",
    "print(a[[1,3]])"
   ]
  },
  {
   "cell_type": "code",
   "execution_count": 4,
   "id": "661978df",
   "metadata": {},
   "outputs": [
    {
     "name": "stdout",
     "output_type": "stream",
     "text": [
      "[[1 2 5 6 7]\n",
      " [3 4 7 8 9]]\n"
     ]
    }
   ],
   "source": [
    "#horizontal join\n",
    "import numpy as np\n",
    "a=np.array(([1,2],[3,4]))\n",
    "b=np.array(([5,6],[7,8]))\n",
    "print(np.hstack((a,b)))"
   ]
  },
  {
   "cell_type": "code",
   "execution_count": 6,
   "id": "dfee6a60",
   "metadata": {},
   "outputs": [
    {
     "name": "stdout",
     "output_type": "stream",
     "text": [
      "[[1 2]\n",
      " [3 4]\n",
      " [5 6]\n",
      " [7 8]]\n"
     ]
    }
   ],
   "source": [
    "#vertical join\n",
    "import numpy as np\n",
    "a=np.array(([1,2],[3,4]))\n",
    "b=np.array(([5,6],[7,8]))\n",
    "print(np.vstack((a,b)))"
   ]
  },
  {
   "cell_type": "code",
   "execution_count": 11,
   "id": "87a0f3f1",
   "metadata": {
    "scrolled": true
   },
   "outputs": [
    {
     "name": "stdout",
     "output_type": "stream",
     "text": [
      "[[[1 5]\n",
      "  [2 6]]\n",
      "\n",
      " [[3 7]\n",
      "  [4 8]]]\n"
     ]
    }
   ],
   "source": [
    "#Depth join(O/P in next dimension)\n",
    "import numpy as np\n",
    "a=np.array(([1,2],[3,4]))\n",
    "b=np.array(([5,6],[7,8]))\n",
    "print(np.dstack((a,b)))"
   ]
  },
  {
   "cell_type": "code",
   "execution_count": 19,
   "id": "6e074f70",
   "metadata": {},
   "outputs": [
    {
     "name": "stdout",
     "output_type": "stream",
     "text": [
      "[array([1, 2]), array([3, 4]), array([5, 6])]\n"
     ]
    }
   ],
   "source": [
    "import numpy as np\n",
    "a=np.array([1,2,3,4,5,6])\n",
    "print(np.split(a,3))"
   ]
  },
  {
   "cell_type": "code",
   "execution_count": 20,
   "id": "733fca09",
   "metadata": {},
   "outputs": [
    {
     "name": "stdout",
     "output_type": "stream",
     "text": [
      "[array([1, 2]), array([3, 4]), array([5])]\n"
     ]
    }
   ],
   "source": [
    "import numpy as np\n",
    "a=np.array([1,2,3,4,5])\n",
    "print(np.array_split(a,3))"
   ]
  },
  {
   "cell_type": "code",
   "execution_count": null,
   "id": "01cef898",
   "metadata": {},
   "outputs": [],
   "source": []
  }
 ],
 "metadata": {
  "kernelspec": {
   "display_name": "Python 3 (ipykernel)",
   "language": "python",
   "name": "python3"
  },
  "language_info": {
   "codemirror_mode": {
    "name": "ipython",
    "version": 3
   },
   "file_extension": ".py",
   "mimetype": "text/x-python",
   "name": "python",
   "nbconvert_exporter": "python",
   "pygments_lexer": "ipython3",
   "version": "3.11.5"
  }
 },
 "nbformat": 4,
 "nbformat_minor": 5
}
