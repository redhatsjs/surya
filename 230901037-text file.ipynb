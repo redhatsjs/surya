{
 "cells": [
  {
   "cell_type": "code",
   "execution_count": 2,
   "id": "0691d44d",
   "metadata": {},
   "outputs": [],
   "source": [
    "f=open(\"Surya.txt\",\"w\")\n",
    "f.write(\"hi kirendar\\n\")\n",
    "f.write(\"Read daily \\n\")\n",
    "f.write(\"be punctual no more waiting\\n\")\n",
    "f.close()"
   ]
  },
  {
   "cell_type": "code",
   "execution_count": 4,
   "id": "a4cdb39d",
   "metadata": {},
   "outputs": [
    {
     "name": "stdout",
     "output_type": "stream",
     "text": [
      "hi kirendar\n",
      "\n",
      "Read daily \n",
      "\n",
      "be punctual no more waiting\n",
      "\n",
      "\n"
     ]
    }
   ],
   "source": [
    "f=open(\"Surya.txt\",\"r\")\n",
    "print(f.readline())\n",
    "print(f.readline())\n",
    "print(f.readline())\n",
    "print(f.readline())\n",
    "f.close()"
   ]
  },
  {
   "cell_type": "code",
   "execution_count": 7,
   "id": "eb050726",
   "metadata": {},
   "outputs": [
    {
     "name": "stdout",
     "output_type": "stream",
     "text": [
      "hi kirendar\n",
      "Read daily \n",
      "be punctual no more waiting\n",
      "kirendar\n",
      "kirendar\n",
      "kirendar\n",
      "\n"
     ]
    }
   ],
   "source": [
    "f=open(\"Surya.txt\",\"a+\")\n",
    "f.write(\"kirendar\\n\")\n",
    "f.seek(0)\n",
    "a=f.read()\n",
    "print(a)"
   ]
  },
  {
   "cell_type": "code",
   "execution_count": 8,
   "id": "65cfc4f8",
   "metadata": {},
   "outputs": [
    {
     "name": "stdout",
     "output_type": "stream",
     "text": [
      "hi kirendar\n",
      "Read daily \n",
      "be punctual no more waiting\n",
      "kirendar\n",
      "kirendar\n",
      "kirendar\n",
      "\n"
     ]
    }
   ],
   "source": [
    "a=open(\"Surya.txt\",\"r\")\n",
    "print(a.read())\n",
    "a.close()"
   ]
  },
  {
   "cell_type": "code",
   "execution_count": 9,
   "id": "9717f747",
   "metadata": {},
   "outputs": [
    {
     "name": "stdout",
     "output_type": "stream",
     "text": [
      "['hi kirendar\\n', 'Read daily \\n', 'be punctual no more waiting\\n', 'kirendar\\n', 'kirendar\\n', 'kirendar\\n']\n"
     ]
    }
   ],
   "source": [
    "with open (\"Surya.txt\",\"r\") as file:\n",
    "    l=file.readlines()\n",
    "    print(l)"
   ]
  },
  {
   "cell_type": "code",
   "execution_count": 10,
   "id": "93056643",
   "metadata": {},
   "outputs": [
    {
     "name": "stdout",
     "output_type": "stream",
     "text": [
      "delhi\n"
     ]
    }
   ],
   "source": []
  },
  {
   "cell_type": "code",
   "execution_count": null,
   "id": "7006b8dc",
   "metadata": {},
   "outputs": [],
   "source": []
  }
 ],
 "metadata": {
  "kernelspec": {
   "display_name": "Python 3 (ipykernel)",
   "language": "python",
   "name": "python3"
  },
  "language_info": {
   "codemirror_mode": {
    "name": "ipython",
    "version": 3
   },
   "file_extension": ".py",
   "mimetype": "text/x-python",
   "name": "python",
   "nbconvert_exporter": "python",
   "pygments_lexer": "ipython3",
   "version": "3.11.5"
  }
 },
 "nbformat": 4,
 "nbformat_minor": 5
}
