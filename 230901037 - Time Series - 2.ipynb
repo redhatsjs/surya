{
 "cells": [
  {
   "cell_type": "code",
   "execution_count": 3,
   "id": "44847725",
   "metadata": {},
   "outputs": [
    {
     "name": "stdout",
     "output_type": "stream",
     "text": [
      "2025-04-11 11:10:12.315672\n"
     ]
    }
   ],
   "source": [
    "import datetime as dt\n",
    "cd=dt.datetime.now()\n",
    "print(cd)"
   ]
  },
  {
   "cell_type": "code",
   "execution_count": 9,
   "id": "b9cea39a",
   "metadata": {},
   "outputs": [
    {
     "name": "stdout",
     "output_type": "stream",
     "text": [
      "2 digit year: 25\n"
     ]
    }
   ],
   "source": [
    "res=cd.strftime(\"%y\")\n",
    "print(\"2 digit year:\",res)"
   ]
  },
  {
   "cell_type": "code",
   "execution_count": 10,
   "id": "ee307b80",
   "metadata": {},
   "outputs": [
    {
     "name": "stdout",
     "output_type": "stream",
     "text": [
      "4 digit year: 2025\n"
     ]
    }
   ],
   "source": [
    "res1=cd.strftime(\"%Y\")\n",
    "print(\"4 digit year:\",res1)"
   ]
  },
  {
   "cell_type": "code",
   "execution_count": 13,
   "id": "7a7f001c",
   "metadata": {},
   "outputs": [
    {
     "name": "stdout",
     "output_type": "stream",
     "text": [
      "2 digit month: 04\n"
     ]
    }
   ],
   "source": [
    "res=cd.strftime(\"%m\")\n",
    "print(\"2 digit month:\",res)"
   ]
  },
  {
   "cell_type": "code",
   "execution_count": 14,
   "id": "66afe035",
   "metadata": {},
   "outputs": [
    {
     "name": "stdout",
     "output_type": "stream",
     "text": [
      "Short version of month: Apr\n"
     ]
    }
   ],
   "source": [
    "res=cd.strftime(\"%b\")\n",
    "print(\"Short version of month:\",res)"
   ]
  },
  {
   "cell_type": "code",
   "execution_count": 15,
   "id": "f0c0bba1",
   "metadata": {},
   "outputs": [
    {
     "name": "stdout",
     "output_type": "stream",
     "text": [
      "Full name of month: April\n"
     ]
    }
   ],
   "source": [
    "res=cd.strftime(\"%B\")\n",
    "print(\"Full name of month:\",res)"
   ]
  },
  {
   "cell_type": "code",
   "execution_count": 17,
   "id": "de9d438a",
   "metadata": {},
   "outputs": [
    {
     "name": "stdout",
     "output_type": "stream",
     "text": [
      "Day of the year 101\n"
     ]
    }
   ],
   "source": [
    "res=cd.strftime(\"%j\")\n",
    "print(\"Day of the year\",res)"
   ]
  },
  {
   "cell_type": "code",
   "execution_count": 21,
   "id": "1ea3046f",
   "metadata": {},
   "outputs": [
    {
     "name": "stdout",
     "output_type": "stream",
     "text": [
      "Format mm/dd/yy 04/11/25\n"
     ]
    }
   ],
   "source": [
    "res=cd.strftime(\"%D\")\n",
    "print(\"Format mm/dd/yy\",res)"
   ]
  },
  {
   "cell_type": "code",
   "execution_count": 23,
   "id": "b10a0cd0",
   "metadata": {},
   "outputs": [
    {
     "name": "stdout",
     "output_type": "stream",
     "text": [
      "Two-digit day: 11\n"
     ]
    }
   ],
   "source": [
    "res=cd.strftime(\"%d\")\n",
    "print(\"Two-digit day:\",res)"
   ]
  },
  {
   "cell_type": "code",
   "execution_count": 24,
   "id": "c481c84c",
   "metadata": {},
   "outputs": [
    {
     "name": "stdout",
     "output_type": "stream",
     "text": [
      "Short version day: Fri\n"
     ]
    }
   ],
   "source": [
    "res=cd.strftime(\"%a\")\n",
    "print(\"Short version day:\",res)"
   ]
  },
  {
   "cell_type": "code",
   "execution_count": 25,
   "id": "a984960c",
   "metadata": {},
   "outputs": [
    {
     "name": "stdout",
     "output_type": "stream",
     "text": [
      "Full name of day: A\n"
     ]
    }
   ],
   "source": [
    "res=cd.strftime(\"A\")\n",
    "print(\"Full name of day:\",res)"
   ]
  },
  {
   "cell_type": "code",
   "execution_count": 26,
   "id": "f4ab2374",
   "metadata": {},
   "outputs": [
    {
     "name": "stdout",
     "output_type": "stream",
     "text": [
      "24 hours clock: 11\n"
     ]
    }
   ],
   "source": [
    "res=cd.strftime(\"%H\")\n",
    "print(\"24 hours clock:\",res)"
   ]
  },
  {
   "cell_type": "code",
   "execution_count": 29,
   "id": "1a1b64eb",
   "metadata": {},
   "outputs": [
    {
     "name": "stdout",
     "output_type": "stream",
     "text": [
      "12 hour clock: 11\n"
     ]
    }
   ],
   "source": [
    "res=cd.strftime(\"%I\")\n",
    "print(\"12 hour clock:\",res)"
   ]
  },
  {
   "cell_type": "code",
   "execution_count": 30,
   "id": "7aa63776",
   "metadata": {},
   "outputs": [
    {
     "name": "stdout",
     "output_type": "stream",
     "text": [
      "2 digit minute: 10\n"
     ]
    }
   ],
   "source": [
    "res=cd.strftime(\"%M\")\n",
    "print(\"2 digit minute:\",res)"
   ]
  },
  {
   "cell_type": "code",
   "execution_count": 31,
   "id": "042800df",
   "metadata": {},
   "outputs": [
    {
     "name": "stdout",
     "output_type": "stream",
     "text": [
      "seconds: 12\n"
     ]
    }
   ],
   "source": [
    "res=cd.strftime(\"%S\")\n",
    "print(\"seconds:\",res)"
   ]
  },
  {
   "cell_type": "code",
   "execution_count": 33,
   "id": "6c829ba7",
   "metadata": {},
   "outputs": [
    {
     "name": "stdout",
     "output_type": "stream",
     "text": [
      "Format yyyy-mm-dd: 2025-04-11\n"
     ]
    }
   ],
   "source": [
    "res=cd.strftime(\"%F\")\n",
    "print(\"Format yyyy-mm-dd:\",res)"
   ]
  },
  {
   "cell_type": "code",
   "execution_count": 34,
   "id": "7b1854bf",
   "metadata": {},
   "outputs": [
    {
     "name": "stdout",
     "output_type": "stream",
     "text": [
      "microseconds: 315672\n"
     ]
    }
   ],
   "source": [
    "res=cd.strftime(\"%f\")\n",
    "print(\"microseconds:\",res)"
   ]
  },
  {
   "cell_type": "code",
   "execution_count": 35,
   "id": "93aa3660",
   "metadata": {},
   "outputs": [
    {
     "name": "stdout",
     "output_type": "stream",
     "text": [
      "AM or PM: AM\n"
     ]
    }
   ],
   "source": [
    "res=cd.strftime(\"%p\")\n",
    "print(\"AM or PM:\",res)"
   ]
  },
  {
   "cell_type": "code",
   "execution_count": 36,
   "id": "f97f1fc2",
   "metadata": {},
   "outputs": [
    {
     "name": "stdout",
     "output_type": "stream",
     "text": [
      "Local appropriate formatted date: 04/11/25\n"
     ]
    }
   ],
   "source": [
    "res=cd.strftime(\"%x\")\n",
    "print(\"Local appropriate formatted date:\",res)"
   ]
  },
  {
   "cell_type": "code",
   "execution_count": 37,
   "id": "59ba9162",
   "metadata": {},
   "outputs": [
    {
     "name": "stdout",
     "output_type": "stream",
     "text": [
      "Local appropriate time: 11:10:12\n"
     ]
    }
   ],
   "source": [
    "res=cd.strftime(\"%X\")\n",
    "print(\"Local appropriate time:\",res)"
   ]
  }
 ],
 "metadata": {
  "kernelspec": {
   "display_name": "Python 3 (ipykernel)",
   "language": "python",
   "name": "python3"
  },
  "language_info": {
   "codemirror_mode": {
    "name": "ipython",
    "version": 3
   },
   "file_extension": ".py",
   "mimetype": "text/x-python",
   "name": "python",
   "nbconvert_exporter": "python",
   "pygments_lexer": "ipython3",
   "version": "3.11.5"
  }
 },
 "nbformat": 4,
 "nbformat_minor": 5
}
