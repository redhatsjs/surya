{
 "cells": [
  {
   "cell_type": "code",
   "execution_count": 1,
   "id": "aba62672",
   "metadata": {},
   "outputs": [
    {
     "name": "stdout",
     "output_type": "stream",
     "text": [
      "One Dimensional array: [1 2 3 4]\n"
     ]
    }
   ],
   "source": [
    "import numpy as np\n",
    "a=np.array([1,2,3,4])\n",
    "print(\"One Dimensional array:\",a)"
   ]
  },
  {
   "cell_type": "code",
   "execution_count": 2,
   "id": "de70cc11",
   "metadata": {},
   "outputs": [
    {
     "name": "stdout",
     "output_type": "stream",
     "text": [
      "Two Dimensional array: [[1 2 3 4]\n",
      " [5 6 7 8]]\n"
     ]
    }
   ],
   "source": [
    "import numpy as np\n",
    "a=np.array([[1,2,3,4],[5,6,7,8]])\n",
    "print(\"Two Dimensional array:\",a)"
   ]
  },
  {
   "cell_type": "code",
   "execution_count": 5,
   "id": "6fbe9690",
   "metadata": {},
   "outputs": [
    {
     "name": "stdout",
     "output_type": "stream",
     "text": [
      "Three Dimensional array:\n",
      " [[[ 1  2  3]\n",
      "  [ 4  5  6]\n",
      "  [ 7  8  9]]\n",
      "\n",
      " [[10 11 12]\n",
      "  [13 14 15]\n",
      "  [16 17 18]]]\n"
     ]
    }
   ],
   "source": [
    "import numpy as np\n",
    "a=np.array([[[1,2,3],[4,5,6],[7,8,9]],[[10,11,12],[13,14,15],[16,17,18]]])\n",
    "print(\"Three Dimensional array:\\n\",a)"
   ]
  },
  {
   "cell_type": "code",
   "execution_count": 6,
   "id": "fb18661a",
   "metadata": {},
   "outputs": [
    {
     "name": "stdout",
     "output_type": "stream",
     "text": [
      "One Dimensional array:\n",
      " [[0. 0. 0. 0. 0.]\n",
      " [0. 0. 0. 0. 0.]\n",
      " [0. 0. 0. 0. 0.]]\n"
     ]
    }
   ],
   "source": [
    "import numpy as np\n",
    "a=np.zeros((3,5))\n",
    "print(\"One Dimensional array:\\n\",a)"
   ]
  },
  {
   "cell_type": "code",
   "execution_count": 7,
   "id": "d4eff428",
   "metadata": {},
   "outputs": [
    {
     "name": "stdout",
     "output_type": "stream",
     "text": [
      "Random Value:\n",
      " [[0.5951993  0.23473405]\n",
      " [0.27806647 0.4354547 ]]\n"
     ]
    }
   ],
   "source": [
    "import numpy as np\n",
    "a=np.random.random((2,2))\n",
    "print(\"Random Value:\\n\",a)"
   ]
  },
  {
   "cell_type": "code",
   "execution_count": 8,
   "id": "b0803499",
   "metadata": {},
   "outputs": [
    {
     "name": "stdout",
     "output_type": "stream",
     "text": [
      "Sequence array:\n",
      " [ 0  5 10 15 20 25 30 35 40 45 50 55]\n"
     ]
    }
   ],
   "source": [
    "import numpy as np\n",
    "a=np.arange(0,60,5)\n",
    "print(\"Sequence array:\\n\",a)"
   ]
  },
  {
   "cell_type": "code",
   "execution_count": 10,
   "id": "1dc7dbd8",
   "metadata": {},
   "outputs": [
    {
     "name": "stdout",
     "output_type": "stream",
     "text": [
      "Original array:\n",
      " [[ 1  2  3  4]\n",
      " [ 5  6  7  8]\n",
      " [ 9 10 11 12]]\n",
      "\n",
      "Reshaped array:\n",
      " [[ 1  2  3]\n",
      " [ 4  5  6]\n",
      " [ 7  8  9]\n",
      " [10 11 12]]\n"
     ]
    }
   ],
   "source": [
    "import numpy as np\n",
    "a=np.array(([1,2,3,4],[5,6,7,8],[9,10,11,12]))\n",
    "print(\"Original array:\\n\",a)\n",
    "print(\"\\nReshaped array:\\n\",a.reshape(4,3))"
   ]
  },
  {
   "cell_type": "code",
   "execution_count": 16,
   "id": "d6d84909",
   "metadata": {},
   "outputs": [
    {
     "name": "stdout",
     "output_type": "stream",
     "text": [
      "Original array:\n",
      " [[1 2 3]\n",
      " [4 5 6]\n",
      " [7 8 9]]\n",
      "\n",
      "Flattened array:\n",
      " [1 2 3 4 5 6 7 8 9]\n"
     ]
    }
   ],
   "source": [
    "import numpy as np\n",
    "a=np.array([[1,2,3],[4,5,6],[7,8,9]])\n",
    "print(\"Original array:\\n\",a)\n",
    "print(\"\\nFlattened array:\\n\",a.flatten())"
   ]
  },
  {
   "cell_type": "code",
   "execution_count": 19,
   "id": "af51b604",
   "metadata": {},
   "outputs": [
    {
     "name": "stdout",
     "output_type": "stream",
     "text": [
      "Number of dimensions: 3\n"
     ]
    }
   ],
   "source": [
    "import numpy as np\n",
    "a=np.array([[[1,2,3],[4,5,6],[7,8,9]]])\n",
    "print(\"Number of dimensions:\",a.ndim)"
   ]
  },
  {
   "cell_type": "code",
   "execution_count": 28,
   "id": "620574c6",
   "metadata": {},
   "outputs": [
    {
     "name": "stdout",
     "output_type": "stream",
     "text": [
      "Shape of array: (3, 4)\n"
     ]
    }
   ],
   "source": [
    "import numpy as np\n",
    "a=np.array(([1,2,3,4],[5,6,7,8],[9,10,11,12]))\n",
    "print(\"Shape of array:\",a.shape)"
   ]
  },
  {
   "cell_type": "code",
   "execution_count": 27,
   "id": "2a2dd950",
   "metadata": {},
   "outputs": [
    {
     "name": "stdout",
     "output_type": "stream",
     "text": [
      "Array element type: int64\n"
     ]
    }
   ],
   "source": [
    "import numpy as np\n",
    "a=np.array([1,2,3,4])\n",
    "print(\"Array element type:\",a.dtype)"
   ]
  },
  {
   "cell_type": "code",
   "execution_count": 31,
   "id": "232557f8",
   "metadata": {},
   "outputs": [
    {
     "name": "stdout",
     "output_type": "stream",
     "text": [
      "Size of array: 3\n"
     ]
    }
   ],
   "source": [
    "import numpy as np\n",
    "a=np.array(([1,2,3,4],[5,6,7,8],[9,10,11,12]))\n",
    "print(\"Size of array:\",len(a))"
   ]
  },
  {
   "cell_type": "code",
   "execution_count": 1,
   "id": "bacd4d95",
   "metadata": {},
   "outputs": [
    {
     "name": "stdout",
     "output_type": "stream",
     "text": [
      "[1 2 3]\n",
      "[1. 2. 3.]\n",
      "float64\n"
     ]
    }
   ],
   "source": [
    "import numpy as np\n",
    "a=np.array([1,2,3])\n",
    "b=a.astype('float64')\n",
    "print(a)\n",
    "print(b)\n",
    "print(b.dtype)"
   ]
  },
  {
   "cell_type": "code",
   "execution_count": null,
   "id": "55720752",
   "metadata": {},
   "outputs": [],
   "source": []
  }
 ],
 "metadata": {
  "kernelspec": {
   "display_name": "Python 3 (ipykernel)",
   "language": "python",
   "name": "python3"
  },
  "language_info": {
   "codemirror_mode": {
    "name": "ipython",
    "version": 3
   },
   "file_extension": ".py",
   "mimetype": "text/x-python",
   "name": "python",
   "nbconvert_exporter": "python",
   "pygments_lexer": "ipython3",
   "version": "3.11.5"
  }
 },
 "nbformat": 4,
 "nbformat_minor": 5
}
