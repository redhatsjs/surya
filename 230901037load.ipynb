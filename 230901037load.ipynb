{
 "cells": [
  {
   "cell_type": "code",
   "execution_count": 32,
   "id": "9fa391f6",
   "metadata": {
    "scrolled": false
   },
   "outputs": [
    {
     "name": "stdout",
     "output_type": "stream",
     "text": [
      "    SNo. First Name  Gender Login Time  Salary  Bonus(%) Team(department)\n",
      "0      1       Ravi    Male       9:45   90000        20          Finance\n",
      "1      2    Bharath  Female      10:30   40000        20          Finance\n",
      "2      3     Darwin  Female      10:00   10000        11               HR\n",
      "3      4   Chandran  Female      11:00   10000        90          Finance\n",
      "4      5     Darwin  Female       8:15   30000        30          Finance\n",
      "..   ...        ...     ...        ...     ...       ...              ...\n",
      "95    96       Mike  Female       9:45  110000        60          Finance\n",
      "96    97     Darwin  Female       8:15   80000        40          Finance\n",
      "97    98     Darwin  Female       9:25   90000        60               HR\n",
      "98    99     Robert    Male      11:30   40000        15          Finance\n",
      "99   100        Sam    Male       8:15   90000        25          Finance\n",
      "\n",
      "[100 rows x 7 columns]\n"
     ]
    }
   ],
   "source": [
    "import pandas as pd\n",
    "d=pd.read_csv(\"/Users/student/Downloads/230901038 - Sample Sheet - Sheet1 (1).csv\")\n",
    "print(d)\n",
    "#you can call Exel file also"
   ]
  },
  {
   "cell_type": "code",
   "execution_count": 27,
   "id": "7b1a6614",
   "metadata": {},
   "outputs": [
    {
     "name": "stdout",
     "output_type": "stream",
     "text": [
      "Columns:\n",
      " Index(['SNo.', 'First Name', 'Gender', 'Login Time', 'Salary', 'Bonus(%)',\n",
      "       'Team(department)'],\n",
      "      dtype='object')\n",
      "(100, 7)\n"
     ]
    }
   ],
   "source": [
    "import pandas as pd\n",
    "d=pd.read_csv(\"/Users/student/Downloads/230901038 - Sample Sheet - Sheet1 (1).csv\")\n",
    "df=pd.DataFrame(d)\n",
    "print(\"Columns:\\n\",df.columns)\n",
    "print(df.shape)"
   ]
  },
  {
   "cell_type": "code",
   "execution_count": 28,
   "id": "d623fd03",
   "metadata": {},
   "outputs": [
    {
     "name": "stdout",
     "output_type": "stream",
     "text": [
      "Team:\n",
      " 0     Finance\n",
      "1     Finance\n",
      "2          HR\n",
      "3     Finance\n",
      "4     Finance\n",
      "       ...   \n",
      "95    Finance\n",
      "96    Finance\n",
      "97         HR\n",
      "98    Finance\n",
      "99    Finance\n",
      "Name: Team(department), Length: 100, dtype: object\n"
     ]
    }
   ],
   "source": [
    "import pandas as pd\n",
    "d=pd.read_csv(\"/Users/student/Downloads/230901038 - Sample Sheet - Sheet1 (1).csv\")\n",
    "print(\"Team:\\n\",df['Team(department)'])"
   ]
  },
  {
   "cell_type": "code",
   "execution_count": 29,
   "id": "dfdd4543",
   "metadata": {},
   "outputs": [
    {
     "name": "stdout",
     "output_type": "stream",
     "text": [
      "   SNo. First Name  Gender Login Time  Salary  Bonus(%) Team(department)\n",
      "5     6   Chandran  Female       9:45   80000        90               HR\n",
      "6     7     Robert  Female      11:45  100000        20               HR\n",
      "7     8        Sam  Female      10:20  110000        60               HR\n",
      "8     9       Ravi  Female      10:20   70000        15          Finance\n",
      "9    10        Sam  Female      11:45   40000        25               HR\n"
     ]
    }
   ],
   "source": [
    "import pandas as pd\n",
    "d=pd.read_csv(\"/Users/student/Downloads/230901038 - Sample Sheet - Sheet1 (1).csv\")\n",
    "print(df[5:10])"
   ]
  },
  {
   "cell_type": "code",
   "execution_count": 30,
   "id": "5ee09ed6",
   "metadata": {},
   "outputs": [
    {
     "name": "stdout",
     "output_type": "stream",
     "text": [
      "Particular Person details:\n",
      " SNo.                     3\n",
      "First Name          Darwin\n",
      "Gender              Female\n",
      "Login Time           10:00\n",
      "Salary               10000\n",
      "Bonus(%)                11\n",
      "Team(department)        HR\n",
      "Name: 2, dtype: object\n"
     ]
    }
   ],
   "source": [
    "import pandas as pd\n",
    "d=pd.read_csv(\"/Users/student/Downloads/230901038 - Sample Sheet - Sheet1 (1).csv\")\n",
    "print(\"Particular Person details:\\n\",df.loc[2])"
   ]
  },
  {
   "cell_type": "code",
   "execution_count": 31,
   "id": "42b25337",
   "metadata": {},
   "outputs": [
    {
     "name": "stdout",
     "output_type": "stream",
     "text": [
      "    SNo. First Name  Gender Login Time  Salary  Bonus(%) Team(department)\n",
      "2      3     Darwin  Female      10:00   10000        11               HR\n",
      "3      4   Chandran  Female      11:00   10000        90          Finance\n",
      "15    16       Ravi  Female      11:30   10000        30          Finance\n",
      "22    23   Chandran  Female       8:30   10000        20          Finance\n",
      "59    60        Sam    Male      11:00   10000        70               HR\n",
      "61    62    Bharath    Male      11:45   10000        50               HR\n",
      "83    84     Robert  Female      10:30   10000        25          Finance\n",
      "94    95       Ravi  Female       9:45   10000        20               HR\n"
     ]
    }
   ],
   "source": [
    "import pandas as pd\n",
    "d=pd.read_csv(\"/Users/student/Downloads/230901038 - Sample Sheet - Sheet1 (1).csv\")\n",
    "print(d.loc[d[\"Salary\"]==10000])"
   ]
  },
  {
   "cell_type": "code",
   "execution_count": 36,
   "id": "faf9a5f8",
   "metadata": {},
   "outputs": [
    {
     "name": "stdout",
     "output_type": "stream",
     "text": [
      "0      90.09009\n",
      "1      40.04004\n",
      "2      10.01001\n",
      "3      10.01001\n",
      "4      30.03003\n",
      "        ...    \n",
      "95    110.11011\n",
      "96     80.08008\n",
      "97     90.09009\n",
      "98     40.04004\n",
      "99     90.09009\n",
      "Name: Salary, Length: 100, dtype: float64\n"
     ]
    }
   ],
   "source": [
    "import pandas as pd\n",
    "d=pd.read_csv(\"230901038CSV.csv\")\n",
    "df=d['Salary']/999\n",
    "print(df)"
   ]
  }
 ],
 "metadata": {
  "kernelspec": {
   "display_name": "Python 3 (ipykernel)",
   "language": "python",
   "name": "python3"
  },
  "language_info": {
   "codemirror_mode": {
    "name": "ipython",
    "version": 3
   },
   "file_extension": ".py",
   "mimetype": "text/x-python",
   "name": "python",
   "nbconvert_exporter": "python",
   "pygments_lexer": "ipython3",
   "version": "3.11.5"
  }
 },
 "nbformat": 4,
 "nbformat_minor": 5
}
