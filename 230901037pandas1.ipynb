{
 "cells": [
  {
   "cell_type": "code",
   "execution_count": 2,
   "id": "6b2cd88d",
   "metadata": {},
   "outputs": [
    {
     "name": "stdout",
     "output_type": "stream",
     "text": [
      "Empty DataFrame\n",
      "Columns: []\n",
      "Index: []\n"
     ]
    }
   ],
   "source": [
    "import pandas as pd\n",
    "df=pd.DataFrame()\n",
    "print(df)"
   ]
  },
  {
   "cell_type": "code",
   "execution_count": 3,
   "id": "b0e5c8d3",
   "metadata": {},
   "outputs": [
    {
     "name": "stdout",
     "output_type": "stream",
     "text": [
      "\n",
      "Series to Data Frame:\n",
      "\n",
      "      Emp  ID\n",
      "0     Uma  10\n",
      "1    Siva  20\n",
      "2  Sindhu  30\n",
      "3    Rair  40\n"
     ]
    }
   ],
   "source": [
    "import pandas as pd\n",
    "emp=pd.Series(['Uma','Siva','Sindhu','Rair'])\n",
    "id=pd.Series([10,20,30,40])\n",
    "frame={'Emp':emp,'ID':id}\n",
    "result=pd.DataFrame(frame)\n",
    "print(\"\\nSeries to Data Frame:\\n\")\n",
    "print(result)"
   ]
  },
  {
   "cell_type": "code",
   "execution_count": 4,
   "id": "c6378688",
   "metadata": {},
   "outputs": [
    {
     "name": "stdout",
     "output_type": "stream",
     "text": [
      "\n",
      "Extracting One Column\n",
      "\n",
      "0       Uma\n",
      "1      Siva\n",
      "2    Sindhu\n",
      "3      Rair\n",
      "Name: Emp, dtype: object\n"
     ]
    }
   ],
   "source": [
    "import pandas as pd\n",
    "emp=pd.Series(['Uma','Siva','Sindhu','Rair'])\n",
    "id=pd.Series([10,20,30,40])\n",
    "frame={'Emp':emp,'ID':id}\n",
    "r=pd.DataFrame(frame)\n",
    "print(\"\\nExtracting One Column\\n\")\n",
    "print(r['Emp'])"
   ]
  },
  {
   "cell_type": "code",
   "execution_count": 5,
   "id": "828a935c",
   "metadata": {},
   "outputs": [
    {
     "name": "stdout",
     "output_type": "stream",
     "text": [
      "\n",
      "Addind a new column\n",
      "\n",
      "      Emp  ID  Age\n",
      "0     Uma  10   20\n",
      "1    Siva  20   25\n",
      "2  Sindhu  30   30\n",
      "3    Rair  40   50\n",
      "\n",
      "Deleting an existing column\n",
      "\n",
      "      Emp  ID\n",
      "0     Uma  10\n",
      "1    Siva  20\n",
      "2  Sindhu  30\n",
      "3    Rair  40\n"
     ]
    }
   ],
   "source": [
    "import pandas as pd\n",
    "emp=pd.Series(['Uma','Siva','Sindhu','Rair'])\n",
    "id=pd.Series([10,20,30,40])\n",
    "frame={'Emp':emp,'ID':id}\n",
    "r=pd.DataFrame(frame)\n",
    "print(\"\\nAddind a new column\\n\")\n",
    "r['Age']=pd.Series([20,25,30,50])\n",
    "print(r)\n",
    "print(\"\\nDeleting an existing column\\n\")\n",
    "del r['Age']\n",
    "print(r)"
   ]
  },
  {
   "cell_type": "code",
   "execution_count": 6,
   "id": "598bc312",
   "metadata": {},
   "outputs": [
    {
     "name": "stdout",
     "output_type": "stream",
     "text": [
      "\n",
      "Extracting second Row\n",
      "\n",
      "Emp    Siva\n",
      "ID       20\n",
      "Name: 1, dtype: object\n"
     ]
    }
   ],
   "source": [
    "import pandas as pd\n",
    "emp=pd.Series(['Uma','Siva','Sindhu','Rair'])\n",
    "id=pd.Series([10,20,30,40])\n",
    "frame={'Emp':emp,'ID':id}\n",
    "r=pd.DataFrame(frame)\n",
    "print(\"\\nExtracting second Row\\n\")\n",
    "print(r.loc[1])"
   ]
  },
  {
   "cell_type": "code",
   "execution_count": 7,
   "id": "31a8b7fe",
   "metadata": {},
   "outputs": [
    {
     "name": "stdout",
     "output_type": "stream",
     "text": [
      "Slice rows:\n",
      "       Emp  ID\n",
      "1    Siva  20\n",
      "2  Sindhu  30\n"
     ]
    }
   ],
   "source": [
    "import pandas as pd\n",
    "emp=pd.Series(['Uma','Siva','Sindhu','Rair'])\n",
    "id=pd.Series([10,20,30,40])\n",
    "frame={'Emp':emp,'ID':id}\n",
    "r=pd.DataFrame(frame)\n",
    "print(\"Slice rows:\\n\",r[1:3])"
   ]
  },
  {
   "cell_type": "code",
   "execution_count": 9,
   "id": "3b0c4795",
   "metadata": {},
   "outputs": [
    {
     "name": "stdout",
     "output_type": "stream",
     "text": [
      "Adding new row values:\n",
      "       Emp  ID\n",
      "0     Uma  10\n",
      "1    Siva  20\n",
      "2  Sindhu  30\n",
      "3    Rair  40\n",
      "0     Anu  20\n",
      "1    Jinu  19\n"
     ]
    }
   ],
   "source": [
    "import pandas as pd\n",
    "emp=pd.Series(['Uma','Siva','Sindhu','Rair'])\n",
    "id=pd.Series([10,20,30,40])\n",
    "frame={'Emp':emp,'ID':id}\n",
    "r=pd.DataFrame(frame)\n",
    "d2=pd.DataFrame((['Anu',20],['Jinu',19]),columns=['Emp','ID'])\n",
    "print(\"Adding new row values:\\n\",pd.concat([r,d2]))"
   ]
  },
  {
   "cell_type": "code",
   "execution_count": 11,
   "id": "10c36274",
   "metadata": {},
   "outputs": [
    {
     "name": "stdout",
     "output_type": "stream",
     "text": [
      "    Emp  ID\n",
      "0   Uma  10\n",
      "1  Siva  20\n",
      "3  Rair  40\n"
     ]
    }
   ],
   "source": [
    "import pandas as pd\n",
    "emp=pd.Series(['Uma','Siva','Sindhu','Rair'])\n",
    "id=pd.Series([10,20,30,40])\n",
    "frame={'Emp':emp,'ID':id}\n",
    "r=pd.DataFrame(frame)\n",
    "print(r.drop(2)) #delete existing row"
   ]
  }
 ],
 "metadata": {
  "kernelspec": {
   "display_name": "Python 3 (ipykernel)",
   "language": "python",
   "name": "python3"
  },
  "language_info": {
   "codemirror_mode": {
    "name": "ipython",
    "version": 3
   },
   "file_extension": ".py",
   "mimetype": "text/x-python",
   "name": "python",
   "nbconvert_exporter": "python",
   "pygments_lexer": "ipython3",
   "version": "3.11.5"
  }
 },
 "nbformat": 4,
 "nbformat_minor": 5
}
