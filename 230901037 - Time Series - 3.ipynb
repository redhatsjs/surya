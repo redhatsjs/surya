{
 "cells": [
  {
   "cell_type": "code",
   "execution_count": 3,
   "id": "d7c1e374",
   "metadata": {},
   "outputs": [
    {
     "name": "stdout",
     "output_type": "stream",
     "text": [
      "Date Index \n",
      " 2011-01-02   -1.263007\n",
      "2011-01-05    1.539695\n",
      "2011-01-07   -1.513173\n",
      "2011-01-08    0.626891\n",
      "2011-01-10    1.282733\n",
      "2011-01-12   -0.282032\n",
      "dtype: float64\n"
     ]
    }
   ],
   "source": [
    "import pandas as pd\n",
    "import numpy as np\n",
    "from datetime import datetime as dt\n",
    "dates = [dt(2011, 1, 2),\n",
    "dt(2011, 1, 5),\n",
    "dt(2011, 1, 7),\n",
    "dt(2011, 1, 8),\n",
    "dt(2011, 1, 10),\n",
    "dt(2011, 1, 12)]\n",
    "#with this date object, create a series\n",
    "ts = pd.Series(np.random.randn(6), index=dates)\n",
    "print(\"Date Index \\n\",ts)"
   ]
  },
  {
   "cell_type": "code",
   "execution_count": 5,
   "id": "23619fae",
   "metadata": {},
   "outputs": [
    {
     "name": "stdout",
     "output_type": "stream",
     "text": [
      "\n",
      "Date Index alone from the series: DatetimeIndex(['2011-01-02', '2011-01-05', '2011-01-07', '2011-01-08',\n",
      "               '2011-01-10', '2011-01-12'],\n",
      "              dtype='datetime64[ns]', freq=None)\n"
     ]
    }
   ],
   "source": [
    "print(\"\\nDate Index alone from the series:\",ts.index)"
   ]
  },
  {
   "cell_type": "code",
   "execution_count": 7,
   "id": "65d4f652",
   "metadata": {},
   "outputs": [
    {
     "name": "stdout",
     "output_type": "stream",
     "text": [
      "\n",
      "Second index:\n",
      " 2011-01-07 00:00:00\n"
     ]
    }
   ],
   "source": [
    "stamp=ts.index[2]\n",
    "print(\"\\nSecond index:\\n\", stamp)"
   ]
  },
  {
   "cell_type": "code",
   "execution_count": 9,
   "id": "70dc8311-df7e-44e2-880c-caf9fee4cee8",
   "metadata": {},
   "outputs": [
    {
     "name": "stdout",
     "output_type": "stream",
     "text": [
      "\n",
      "Daterange up to 1000 days:\n",
      " 2000-01-01   -0.702298\n",
      "2000-01-02   -0.141272\n",
      "2000-01-03   -0.453127\n",
      "2000-01-04    0.568150\n",
      "2000-01-05    0.155721\n",
      "                ...   \n",
      "2002-09-22    0.757931\n",
      "2002-09-23   -0.140124\n",
      "2002-09-24   -0.609775\n",
      "2002-09-25   -0.079867\n",
      "2002-09-26   -1.357564\n",
      "Freq: D, Length: 1000, dtype: float64\n"
     ]
    }
   ],
   "source": [
    "longer_ts=pd.Series(np.random.randn(1000),\n",
    "                    index=pd.date_range(\"2000-01-01\",periods=1000))\n",
    "print(\"\\nDaterange up to 1000 days:\\n\",longer_ts)"
   ]
  },
  {
   "cell_type": "code",
   "execution_count": 11,
   "id": "d44c219b-5aea-4fb3-9ce7-9d076293de4b",
   "metadata": {},
   "outputs": [
    {
     "name": "stdout",
     "output_type": "stream",
     "text": [
      "\n",
      "Date range-2001 year:\n",
      " 2001-01-01   -0.843053\n",
      "2001-01-02   -0.398227\n",
      "2001-01-03   -0.124927\n",
      "2001-01-04    0.989594\n",
      "2001-01-05    0.459316\n",
      "                ...   \n",
      "2001-12-27   -0.064657\n",
      "2001-12-28    0.151611\n",
      "2001-12-29    0.516103\n",
      "2001-12-30    0.242849\n",
      "2001-12-31   -1.569936\n",
      "Freq: D, Length: 365, dtype: float64\n"
     ]
    }
   ],
   "source": [
    "print(\"\\nDate range-2001 year:\\n\", longer_ts[\"2001\"])"
   ]
  },
  {
   "cell_type": "code",
   "execution_count": 13,
   "id": "083fa1ba-2ee1-4ffc-94ad-2cfbb07eec44",
   "metadata": {},
   "outputs": [
    {
     "name": "stdout",
     "output_type": "stream",
     "text": [
      "\n",
      "Date range-05 month 2001 year:\n",
      " 2001-05-01    0.215632\n",
      "2001-05-02    1.097403\n",
      "2001-05-03   -0.211505\n",
      "2001-05-04   -1.591631\n",
      "2001-05-05   -0.324623\n",
      "2001-05-06   -0.537536\n",
      "2001-05-07   -0.834013\n",
      "2001-05-08   -0.126209\n",
      "2001-05-09   -1.462263\n",
      "2001-05-10    1.485716\n",
      "2001-05-11    1.243636\n",
      "2001-05-12    0.174475\n",
      "2001-05-13   -0.572738\n",
      "2001-05-14   -0.690326\n",
      "2001-05-15   -0.549359\n",
      "2001-05-16    1.017849\n",
      "2001-05-17    1.776334\n",
      "2001-05-18    0.019286\n",
      "2001-05-19   -0.676978\n",
      "2001-05-20   -0.052979\n",
      "2001-05-21   -0.259791\n",
      "2001-05-22   -1.905421\n",
      "2001-05-23    0.847368\n",
      "2001-05-24    0.070666\n",
      "2001-05-25   -0.198428\n",
      "2001-05-26    1.477416\n",
      "2001-05-27    0.377938\n",
      "2001-05-28   -1.577561\n",
      "2001-05-29   -0.190612\n",
      "2001-05-30   -0.774161\n",
      "2001-05-31   -1.821740\n",
      "Freq: D, dtype: float64\n"
     ]
    }
   ],
   "source": [
    "print(\"\\nDate range-05 month 2001 year:\\n\", longer_ts[\"2001-05\"])"
   ]
  },
  {
   "cell_type": "code",
   "execution_count": 15,
   "id": "82aa724c-9d56-4d14-8ec6-2f80aead7405",
   "metadata": {},
   "outputs": [
    {
     "name": "stdout",
     "output_type": "stream",
     "text": [
      "\n",
      "Date range-first few dates in 2000 year:\n",
      " 2000-01-01   -0.702298\n",
      "2000-01-02   -0.141272\n",
      "2000-01-03   -0.453127\n",
      "2000-01-04    0.568150\n",
      "2000-01-05    0.155721\n",
      "Freq: D, dtype: float64\n"
     ]
    }
   ],
   "source": [
    "print(\"\\nDate range-first few dates in 2000 year:\\n\",longer_ts[\"2000\"].head())"
   ]
  },
  {
   "cell_type": "code",
   "execution_count": 17,
   "id": "64a868f9-d350-4172-9d9b-daf5757a303b",
   "metadata": {},
   "outputs": [
    {
     "name": "stdout",
     "output_type": "stream",
     "text": [
      "\n",
      "Date range-first 15 dates in 02 month 2001 year:\n",
      " 2000-02-01   -0.765057\n",
      "2000-02-02   -0.427283\n",
      "2000-02-03   -1.969206\n",
      "2000-02-04   -0.339021\n",
      "2000-02-05   -2.178148\n",
      "2000-02-06   -1.758692\n",
      "2000-02-07   -0.630447\n",
      "2000-02-08   -0.573284\n",
      "2000-02-09   -1.650436\n",
      "2000-02-10   -0.196461\n",
      "2000-02-11    1.499965\n",
      "2000-02-12   -1.935112\n",
      "2000-02-13    0.475880\n",
      "2000-02-14    1.233013\n",
      "2000-02-15   -0.678273\n",
      "Freq: D, dtype: float64\n"
     ]
    }
   ],
   "source": [
    "print(\"\\nDate range-first 15 dates in 02 month 2001 year:\\n\",longer_ts[\"2000-02\"].head(15))"
   ]
  },
  {
   "cell_type": "code",
   "execution_count": 21,
   "id": "719b8535-eaea-481e-81b4-d29fd22ad876",
   "metadata": {},
   "outputs": [
    {
     "name": "stdout",
     "output_type": "stream",
     "text": [
      "\n",
      "Date range-rom 26-9-2001:\n",
      " 2000-09-26    0.700491\n",
      "2000-09-27   -0.157548\n",
      "2000-09-28    0.542857\n",
      "2000-09-29   -0.261458\n",
      "2000-09-30   -0.964445\n",
      "                ...   \n",
      "2002-09-22    0.757931\n",
      "2002-09-23   -0.140124\n",
      "2002-09-24   -0.609775\n",
      "2002-09-25   -0.079867\n",
      "2002-09-26   -1.357564\n",
      "Freq: D, Length: 731, dtype: float64\n"
     ]
    }
   ],
   "source": [
    "print(\"\\nDate range-rom 26-9-2001:\\n\",longer_ts[dt(2000,9,26):])"
   ]
  },
  {
   "cell_type": "code",
   "execution_count": 23,
   "id": "5c8b1781-56b6-4cfc-84a3-83bd692277cd",
   "metadata": {},
   "outputs": [
    {
     "name": "stdout",
     "output_type": "stream",
     "text": [
      "\n",
      "Date range from 26-9-2001 to 25-9- 2002:\n",
      " 2001-09-26   -0.160450\n",
      "2001-09-27   -1.319847\n",
      "2001-09-28   -0.880340\n",
      "2001-09-29   -0.847824\n",
      "2001-09-30   -0.402578\n",
      "                ...   \n",
      "2002-09-21    0.873917\n",
      "2002-09-22    0.757931\n",
      "2002-09-23   -0.140124\n",
      "2002-09-24   -0.609775\n",
      "2002-09-25   -0.079867\n",
      "Freq: D, Length: 365, dtype: float64\n"
     ]
    }
   ],
   "source": [
    "print(\"\\nDate range from 26-9-2001 to 25-9- 2002:\\n\",longer_ts[dt(2001,9,26):dt(2002,9,25)])"
   ]
  },
  {
   "cell_type": "code",
   "execution_count": null,
   "id": "ae53939d-eb4b-4ff7-a70f-ae714170e1d4",
   "metadata": {},
   "outputs": [],
   "source": []
  }
 ],
 "metadata": {
  "kernelspec": {
   "display_name": "Python [conda env:base] *",
   "language": "python",
   "name": "conda-base-py"
  },
  "language_info": {
   "codemirror_mode": {
    "name": "ipython",
    "version": 3
   },
   "file_extension": ".py",
   "mimetype": "text/x-python",
   "name": "python",
   "nbconvert_exporter": "python",
   "pygments_lexer": "ipython3",
   "version": "3.12.7"
  }
 },
 "nbformat": 4,
 "nbformat_minor": 5
}
