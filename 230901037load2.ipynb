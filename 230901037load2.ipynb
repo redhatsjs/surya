{
 "cells": [
  {
   "cell_type": "code",
   "execution_count": 2,
   "id": "0d3f35c7",
   "metadata": {},
   "outputs": [
    {
     "name": "stdout",
     "output_type": "stream",
     "text": [
      "    Emp ID Name Prefix First Name Middle Initial Last Name Gender  \\\n",
      "0   677509        Drs.       Lois              H    Walker      F   \n",
      "1   940761         Ms.     Brenda              S  Robinson      F   \n",
      "2   428945         NaN        Joe              W  Robinson      M   \n",
      "3   408351        Drs.      Diane              I     Evans      F   \n",
      "4   193819         Mr.   Benjamin              R   Russell      M   \n",
      "..     ...         ...        ...            ...       ...    ...   \n",
      "95  639892         Mr.       Jose              K      Hill      M   \n",
      "96  704709         Dr.     Harold              Z    Nelson      M   \n",
      "97  461593         Ms.     Nicole              O      Ward      F   \n",
      "98  392491        Mrs.    Theresa              R    Murphy      F   \n",
      "99  495141        Drs.      Tammy              B     Young      F   \n",
      "\n",
      "                          E Mail     Father's Name       Mother's Name  \\\n",
      "0        lois.walker@hotmail.com     Donald Walker        Helen Walker   \n",
      "1      brenda.robinson@gmail.com  Raymond Robinson       Judy Robinson   \n",
      "2         joe.robinson@gmail.com    Scott Robinson  Stephanie Robinson   \n",
      "3          diane.evans@yahoo.com       Jason Evans      Michelle Evans   \n",
      "4   benjamin.russell@charter.net   Gregory Russell   Elizabeth Russell   \n",
      "..                           ...               ...                 ...   \n",
      "95         jose.hill@hotmail.com       Carlos Hill           Anna Hill   \n",
      "96       harold.nelson@gmail.com    Richard Nelson       Pamela Nelson   \n",
      "97         nicole.ward@yahoo.com        Ralph Ward          Julia Ward   \n",
      "98      theresa.murphy@gmail.com     George Murphy   Jacqueline Murphy   \n",
      "99       tammy.young@comcast.net      Andrew Young        Brenda Young   \n",
      "\n",
      "   Mother's Maiden Name  Salary  \n",
      "0                 Lewis  168251  \n",
      "1                 Perry   51063  \n",
      "2                Taylor   50155  \n",
      "3                 Allen  180294  \n",
      "4                Nelson  117642  \n",
      "..                  ...     ...  \n",
      "95                Hayes  129774  \n",
      "96                Smith  156194  \n",
      "97                  Lee   95673  \n",
      "98             Peterson   51015  \n",
      "99             Robinson   93650  \n",
      "\n",
      "[100 rows x 11 columns]\n"
     ]
    }
   ],
   "source": [
    "import pandas as pd\n",
    "d=pd.read_csv(\"employees details.csv\")\n",
    "print(d)"
   ]
  },
  {
   "cell_type": "code",
   "execution_count": 5,
   "id": "f1fddcac",
   "metadata": {},
   "outputs": [
    {
     "name": "stdout",
     "output_type": "stream",
     "text": [
      "Index(['Emp ID', 'Name Prefix', 'First Name', 'Middle Initial', 'Last Name',\n",
      "       'Gender', 'E Mail', 'Father's Name', 'Mother's Name',\n",
      "       'Mother's Maiden Name', 'Salary'],\n",
      "      dtype='object')\n",
      "(100, 11)\n"
     ]
    }
   ],
   "source": [
    "#to get rows,colums and shape of the entire data sets we are using the dataframe\n",
    "import pandas as pd\n",
    "d=pd.read_csv(\"employees details.csv\")\n",
    "df=pd.DataFrame(d)\n",
    "print(df.columns)\n",
    "print(df.shape)"
   ]
  },
  {
   "cell_type": "code",
   "execution_count": 6,
   "id": "eac3c48b",
   "metadata": {},
   "outputs": [
    {
     "name": "stdout",
     "output_type": "stream",
     "text": [
      "0       Walker\n",
      "1     Robinson\n",
      "2     Robinson\n",
      "3        Evans\n",
      "4      Russell\n",
      "        ...   \n",
      "95        Hill\n",
      "96      Nelson\n",
      "97        Ward\n",
      "98      Murphy\n",
      "99       Young\n",
      "Name: Last Name, Length: 100, dtype: object\n"
     ]
    }
   ],
   "source": [
    "#to get the last name only\n",
    "import pandas as pd\n",
    "d=pd.read_csv(\"employees details.csv\")\n",
    "df=pd.DataFrame(d)\n",
    "print(df['Last Name'])"
   ]
  },
  {
   "cell_type": "code",
   "execution_count": 8,
   "id": "3b704a47",
   "metadata": {},
   "outputs": [
    {
     "name": "stdout",
     "output_type": "stream",
     "text": [
      "   Emp ID Name Prefix First Name Middle Initial Last Name Gender  \\\n",
      "0  677509        Drs.       Lois              H    Walker      F   \n",
      "1  940761         Ms.     Brenda              S  Robinson      F   \n",
      "2  428945         NaN        Joe              W  Robinson      M   \n",
      "3  408351        Drs.      Diane              I     Evans      F   \n",
      "4  193819         Mr.   Benjamin              R   Russell      M   \n",
      "\n",
      "                         E Mail     Father's Name       Mother's Name  \\\n",
      "0       lois.walker@hotmail.com     Donald Walker        Helen Walker   \n",
      "1     brenda.robinson@gmail.com  Raymond Robinson       Judy Robinson   \n",
      "2        joe.robinson@gmail.com    Scott Robinson  Stephanie Robinson   \n",
      "3         diane.evans@yahoo.com       Jason Evans      Michelle Evans   \n",
      "4  benjamin.russell@charter.net   Gregory Russell   Elizabeth Russell   \n",
      "\n",
      "  Mother's Maiden Name  Salary  \n",
      "0                Lewis  168251  \n",
      "1                Perry   51063  \n",
      "2               Taylor   50155  \n",
      "3                Allen  180294  \n",
      "4               Nelson  117642  \n"
     ]
    }
   ],
   "source": [
    "#to get the first 5 datasets details\n",
    "import pandas as pd\n",
    "d=pd.read_csv(\"employees details.csv\")\n",
    "df=pd.DataFrame(d)\n",
    "print(df[:5])\n"
   ]
  },
  {
   "cell_type": "code",
   "execution_count": 9,
   "id": "b232c8d8",
   "metadata": {},
   "outputs": [
    {
     "name": "stdout",
     "output_type": "stream",
     "text": [
      "Emp ID                                  428945\n",
      "Name Prefix                                NaN\n",
      "First Name                                 Joe\n",
      "Middle Initial                               W\n",
      "Last Name                             Robinson\n",
      "Gender                                       M\n",
      "E Mail                  joe.robinson@gmail.com\n",
      "Father's Name                   Scott Robinson\n",
      "Mother's Name               Stephanie Robinson\n",
      "Mother's Maiden Name                    Taylor\n",
      "Salary                                   50155\n",
      "Name: 2, dtype: object\n"
     ]
    }
   ],
   "source": [
    "#to get the specific person's details entirely we can use [loc] function\n",
    "import pandas as pd\n",
    "d=pd.read_csv(\"employees details.csv\")\n",
    "df=pd.DataFrame(d)\n",
    "print(df.loc[2])\n"
   ]
  },
  {
   "cell_type": "code",
   "execution_count": 10,
   "id": "7ded3ff0",
   "metadata": {},
   "outputs": [
    {
     "name": "stdout",
     "output_type": "stream",
     "text": [
      "   Emp ID Name Prefix First Name Middle Initial Last Name Gender  \\\n",
      "4  193819         Mr.   Benjamin              R   Russell      M   \n",
      "\n",
      "                         E Mail    Father's Name      Mother's Name  \\\n",
      "4  benjamin.russell@charter.net  Gregory Russell  Elizabeth Russell   \n",
      "\n",
      "  Mother's Maiden Name  Salary  \n",
      "4               Nelson  117642  \n"
     ]
    }
   ],
   "source": [
    "#to get the exact person whose specifications are met \n",
    "import pandas as pd\n",
    "d=pd.read_csv(\"employees details.csv\")\n",
    "df=pd.DataFrame(d)\n",
    "print(df.loc[df[\"Salary\"]==117642])"
   ]
  },
  {
   "cell_type": "code",
   "execution_count": 11,
   "id": "52818796",
   "metadata": {},
   "outputs": [
    {
     "name": "stdout",
     "output_type": "stream",
     "text": [
      "0     168.419419\n",
      "1      51.114114\n",
      "2      50.205205\n",
      "3     180.474474\n",
      "4     117.759760\n",
      "         ...    \n",
      "95    129.903904\n",
      "96    156.350350\n",
      "97     95.768769\n",
      "98     51.066066\n",
      "99     93.743744\n",
      "Name: Salary, Length: 100, dtype: float64\n"
     ]
    }
   ],
   "source": [
    "#need to divide all the person's salary by 999\n",
    "import pandas as pd\n",
    "d=pd.read_csv(\"employees details.csv\")\n",
    "df=pd.DataFrame(d)\n",
    "print(df[\"Salary\"]/999)"
   ]
  },
  {
   "cell_type": "code",
   "execution_count": 12,
   "id": "77a8a298",
   "metadata": {},
   "outputs": [
    {
     "name": "stdout",
     "output_type": "stream",
     "text": [
      "   Emp ID Name Prefix First Name Middle Initial Last Name Gender  \\\n",
      "0  677509        Drs.       Lois              H    Walker      F   \n",
      "1  940761         Ms.     Brenda              S  Robinson      F   \n",
      "2  428945         NaN        Joe              W  Robinson      M   \n",
      "3  408351        Drs.      Diane              I     Evans      F   \n",
      "4  193819         Mr.   Benjamin              R   Russell      M   \n",
      "\n",
      "                         E Mail     Father's Name       Mother's Name  \\\n",
      "0       lois.walker@hotmail.com     Donald Walker        Helen Walker   \n",
      "1     brenda.robinson@gmail.com  Raymond Robinson       Judy Robinson   \n",
      "2        joe.robinson@gmail.com    Scott Robinson  Stephanie Robinson   \n",
      "3         diane.evans@yahoo.com       Jason Evans      Michelle Evans   \n",
      "4  benjamin.russell@charter.net   Gregory Russell   Elizabeth Russell   \n",
      "\n",
      "  Mother's Maiden Name  Salary  \n",
      "0                Lewis  168251  \n",
      "1                Perry   51063  \n",
      "2               Taylor   50155  \n",
      "3                Allen  180294  \n",
      "4               Nelson  117642  \n"
     ]
    }
   ],
   "source": [
    "# to get the first five data from datasets or any number of desired data..we can use head() keyword without using indexing method\n",
    "import pandas as pd\n",
    "d=pd.read_csv(\"employees details.csv\")\n",
    "df=pd.DataFrame(d)\n",
    "print(df.head())"
   ]
  },
  {
   "cell_type": "code",
   "execution_count": 13,
   "id": "72b6110c",
   "metadata": {},
   "outputs": [
    {
     "name": "stdout",
     "output_type": "stream",
     "text": [
      "0          lois.walker@hotmail.com\n",
      "1        brenda.robinson@gmail.com\n",
      "2           joe.robinson@gmail.com\n",
      "3            diane.evans@yahoo.com\n",
      "4     benjamin.russell@charter.net\n",
      "                  ...             \n",
      "95           jose.hill@hotmail.com\n",
      "96         harold.nelson@gmail.com\n",
      "97           nicole.ward@yahoo.com\n",
      "98        theresa.murphy@gmail.com\n",
      "99         tammy.young@comcast.net\n",
      "Name: E Mail, Length: 100, dtype: object\n"
     ]
    }
   ],
   "source": [
    "#to print email address of all the person\n",
    "import pandas as pd\n",
    "d=pd.read_csv(\"employees details.csv\")\n",
    "df=pd.DataFrame(d)\n",
    "print(df['E Mail'])"
   ]
  },
  {
   "cell_type": "code",
   "execution_count": null,
   "id": "5f287a41",
   "metadata": {},
   "outputs": [],
   "source": []
  }
 ],
 "metadata": {
  "kernelspec": {
   "display_name": "Python 3 (ipykernel)",
   "language": "python",
   "name": "python3"
  },
  "language_info": {
   "codemirror_mode": {
    "name": "ipython",
    "version": 3
   },
   "file_extension": ".py",
   "mimetype": "text/x-python",
   "name": "python",
   "nbconvert_exporter": "python",
   "pygments_lexer": "ipython3",
   "version": "3.11.5"
  }
 },
 "nbformat": 4,
 "nbformat_minor": 5
}
