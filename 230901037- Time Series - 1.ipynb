{
 "cells": [
  {
   "cell_type": "code",
   "execution_count": 7,
   "id": "5fa808c4",
   "metadata": {},
   "outputs": [
    {
     "name": "stdout",
     "output_type": "stream",
     "text": [
      "today_now function: 2025-04-11 10:36:37.692379\n"
     ]
    }
   ],
   "source": [
    "import datetime as dt\n",
    "a=dt.datetime.now()\n",
    "print(\"today_now function:\",a)"
   ]
  },
  {
   "cell_type": "code",
   "execution_count": 14,
   "id": "3810f83b",
   "metadata": {},
   "outputs": [
    {
     "name": "stdout",
     "output_type": "stream",
     "text": [
      "today: 2025-04-11 10:39:45.494700\n"
     ]
    }
   ],
   "source": [
    "today=dt.datetime.today()\n",
    "print(\"today:\",today)"
   ]
  },
  {
   "cell_type": "code",
   "execution_count": 19,
   "id": "d793fffa",
   "metadata": {},
   "outputs": [
    {
     "name": "stdout",
     "output_type": "stream",
     "text": [
      "tomorrow: 2025-04-12 10:39:45.494700\n"
     ]
    }
   ],
   "source": [
    "tomorrow=today+dt.timedelta(days=1)\n",
    "#days=1 means next day, 2 means 2days from today and so on\n",
    "print(\"tomorrow:\",tomorrow)"
   ]
  },
  {
   "cell_type": "code",
   "execution_count": 18,
   "id": "812ae6b7",
   "metadata": {},
   "outputs": [
    {
     "name": "stdout",
     "output_type": "stream",
     "text": [
      "yesterday_using tomorrow: 2025-04-10 10:39:45.494700\n"
     ]
    }
   ],
   "source": [
    "tomorrow=today+dt.timedelta(days=-1)\n",
    "print(\"yesterday_using tomorrow:\",tomorrow)"
   ]
  },
  {
   "cell_type": "code",
   "execution_count": 23,
   "id": "39755f41",
   "metadata": {},
   "outputs": [
    {
     "name": "stdout",
     "output_type": "stream",
     "text": [
      "yesterday: 2025-04-10 10:39:45.494700\n"
     ]
    }
   ],
   "source": [
    "yesterday=today-dt.timedelta(days=1)\n",
    "#days=1 means prev day, days=0 means today\n",
    "print(\"yesterday:\",yesterday)"
   ]
  },
  {
   "cell_type": "code",
   "execution_count": 25,
   "id": "c86697fc",
   "metadata": {},
   "outputs": [
    {
     "name": "stdout",
     "output_type": "stream",
     "text": [
      "date format[2020,6,8,23,10,25,404040]:\n",
      " 2020-06-08 23:10:25.404040\n"
     ]
    }
   ],
   "source": [
    "a=dt.datetime.now()\n",
    "b=dt.datetime(2020,6,8,23,10,25,404040)\n",
    "print(\"date format[2020,6,8,23,10,25,404040]:\\n\",b)"
   ]
  },
  {
   "cell_type": "code",
   "execution_count": 31,
   "id": "3600f8c4",
   "metadata": {},
   "outputs": [
    {
     "name": "stdout",
     "output_type": "stream",
     "text": [
      "Replacing date:  2024-12-31 2024-12-15\n"
     ]
    }
   ],
   "source": [
    "from datetime import date\n",
    "d=date(2024,12,31)\n",
    "print(\"Replacing date: \",d,d.replace(day=15))"
   ]
  },
  {
   "cell_type": "code",
   "execution_count": 28,
   "id": "741c9f26",
   "metadata": {},
   "outputs": [
    {
     "name": "stdout",
     "output_type": "stream",
     "text": [
      "Today: 2025-04-11\n",
      "Current year: 2025\n",
      "Current month: 4\n",
      "Current day: 11\n"
     ]
    }
   ],
   "source": [
    "today=date.today()\n",
    "print(\"Today:\",today)\n",
    "print(\"Current year:\",today.year)\n",
    "print(\"Current month:\",today.month)\n",
    "print(\"Current day:\",today.day)"
   ]
  }
 ],
 "metadata": {
  "kernelspec": {
   "display_name": "Python 3 (ipykernel)",
   "language": "python",
   "name": "python3"
  },
  "language_info": {
   "codemirror_mode": {
    "name": "ipython",
    "version": 3
   },
   "file_extension": ".py",
   "mimetype": "text/x-python",
   "name": "python",
   "nbconvert_exporter": "python",
   "pygments_lexer": "ipython3",
   "version": "3.11.5"
  }
 },
 "nbformat": 4,
 "nbformat_minor": 5
}
