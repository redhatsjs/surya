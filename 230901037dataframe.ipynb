{
 "cells": [
  {
   "cell_type": "code",
   "execution_count": 2,
   "id": "aee09e93",
   "metadata": {},
   "outputs": [
    {
     "name": "stdout",
     "output_type": "stream",
     "text": [
      "\n",
      "Original Dataframe:\n",
      "    S  R\n",
      "0  3  9\n",
      "1  3  9\n",
      "2  3  9\n",
      "3  3  9\n",
      "\n",
      "Square root:\n",
      "           S    R\n",
      "0  1.732051  3.0\n",
      "1  1.732051  3.0\n",
      "2  1.732051  3.0\n",
      "3  1.732051  3.0\n",
      "\n",
      "Sum of each column:\n",
      " S    12\n",
      "R    36\n",
      "dtype: int64\n",
      "\n",
      "Sum of each row:\n",
      " 0    12\n",
      "1    12\n",
      "2    12\n",
      "3    12\n",
      "dtype: int64\n"
     ]
    }
   ],
   "source": [
    "import numpy as np\n",
    "import pandas as pd\n",
    "info=pd.DataFrame([[3,9]]*4,columns=['S','R'])\n",
    "print(\"\\nOriginal Dataframe:\\n\",info)\n",
    "print(\"\\nSquare root:\\n\",info.apply(np.sqrt))\n",
    "print(\"\\nSum of each column:\\n\",info.apply(np.sum,axis=0))\n",
    "print(\"\\nSum of each row:\\n\",info.apply(np.sum,axis=1))"
   ]
  },
  {
   "cell_type": "code",
   "execution_count": 3,
   "id": "63816145",
   "metadata": {},
   "outputs": [
    {
     "name": "stdout",
     "output_type": "stream",
     "text": [
      "   X  Y  Z\n",
      "0  2  4  6\n",
      "1  1  3  5\n",
      "2  5  8  7\n",
      "     X  Y  Z\n",
      "min  1  3  5\n",
      "max  5  8  7\n"
     ]
    }
   ],
   "source": [
    "import numpy as np\n",
    "import pandas as pd\n",
    "info=pd.DataFrame([[2,4,6],[1,3,5],[5,8,7]],columns=['X','Y','Z'])\n",
    "print(info)\n",
    "print(info.agg(['min','max']))"
   ]
  },
  {
   "cell_type": "code",
   "execution_count": 4,
   "id": "b2e69a63",
   "metadata": {},
   "outputs": [
    {
     "name": "stdout",
     "output_type": "stream",
     "text": [
      "  EmpName  ID\n",
      "0     Sai  88\n",
      "1     Poo  70\n",
      "\n",
      " Adding a new column:\n",
      "   EmpName  ID  Age\n",
      "0     Sai  88   20\n",
      "1     Poo  70   18\n",
      "\n",
      " Addind a new column:\n",
      "   EmpName  ID  Age   Sex\n",
      "0     Sai  88   20  Male\n",
      "1     Poo  70   18  Male\n"
     ]
    }
   ],
   "source": [
    "import pandas as pd\n",
    "import numpy as np\n",
    "d2=pd.DataFrame([['Sai',88],[\"Poo\",70]],columns=['EmpName','ID'])\n",
    "print(d2)\n",
    "d2['Age']=[20,18]\n",
    "print(\"\\n Adding a new column:\\n\",d2)\n",
    "d2['Sex']=['Male','Male']\n",
    "print(\"\\n Addind a new column:\\n\",d2)"
   ]
  },
  {
   "cell_type": "code",
   "execution_count": 5,
   "id": "d5636797",
   "metadata": {},
   "outputs": [
    {
     "name": "stdout",
     "output_type": "stream",
     "text": [
      "  EmpName  ID\n",
      "0     Sai  88\n",
      "1     Poo  70\n",
      "  EmpName  ID  Age\n",
      "0     Sai  88   20\n",
      "1     Poo  70   18\n"
     ]
    }
   ],
   "source": [
    "import pandas as pd\n",
    "import numpy as np\n",
    "a=pd.DataFrame([['Sai',88],['Poo',70]],columns=['EmpName','ID'])\n",
    "print(a)\n",
    "b=a.assign(Age=[20,18])\n",
    "print(b)"
   ]
  },
  {
   "cell_type": "code",
   "execution_count": 6,
   "id": "8039c24e",
   "metadata": {},
   "outputs": [
    {
     "name": "stdout",
     "output_type": "stream",
     "text": [
      "       col3      col4\n",
      "3  0.319865 -1.250771\n",
      "2 -2.170600  0.736249\n",
      "0  0.312689  1.781382\n",
      "4  0.247781  0.709856\n",
      "1  1.184730  1.367758\n",
      "       col3      col4\n",
      "0  0.312689  1.781382\n",
      "1  1.184730  1.367758\n",
      "2 -2.170600  0.736249\n",
      "3  0.319865 -1.250771\n",
      "4  0.247781  0.709856\n",
      "       col3      col4\n",
      "3  0.319865 -1.250771\n",
      "4  0.247781  0.709856\n",
      "2 -2.170600  0.736249\n",
      "1  1.184730  1.367758\n",
      "0  0.312689  1.781382\n"
     ]
    }
   ],
   "source": [
    "import pandas as pd\n",
    "info=pd.DataFrame(np.random.randn(5, 2),index=[3,2,0,4,1],columns=['col3','col4'])\n",
    "print(info)\n",
    "info2=info.sort_index()\n",
    "print(info2)\n",
    "info3=info.sort_values(by='col4')\n",
    "print(info3)"
   ]
  },
  {
   "cell_type": "code",
   "execution_count": 10,
   "id": "1040062d",
   "metadata": {},
   "outputs": [
    {
     "name": "stdout",
     "output_type": "stream",
     "text": [
      "   id  Name   sub\n",
      "0   1   Sai  sub1\n",
      "1   2   Poo  sub2\n",
      "2   3  Saba  sub4\n",
      "3   4  Yuvi  sub3\n",
      "   id    Name   Sub\n",
      "0   1  Sanjay  sub2\n",
      "1   2   Saran  sub4\n",
      "2   3     Som  sub3\n",
      "3   4    Ruba  sub5\n",
      "   id Name_x   sub  Name_y   Sub\n",
      "0   1    Sai  sub1  Sanjay  sub2\n",
      "1   2    Poo  sub2   Saran  sub4\n",
      "2   3   Saba  sub4     Som  sub3\n",
      "3   4   Yuvi  sub3    Ruba  sub5\n"
     ]
    }
   ],
   "source": [
    "import pandas as pd\n",
    "import numpy as np\n",
    "l=pd.DataFrame({'id':[1,2,3,4],'Name':['Sai','Poo','Saba','Yuvi'],'sub':['sub1','sub2','sub4','sub3']})\n",
    "r=pd.DataFrame({'id':[1,2,3,4],'Name':['Sanjay','Saran','Som','Ruba'],'Sub':['sub2','sub4','sub3','sub5']})\n",
    "print(l)\n",
    "print(r)\n",
    "print(pd.merge(l,r,on='id'))"
   ]
  }
 ],
 "metadata": {
  "kernelspec": {
   "display_name": "Python 3 (ipykernel)",
   "language": "python",
   "name": "python3"
  },
  "language_info": {
   "codemirror_mode": {
    "name": "ipython",
    "version": 3
   },
   "file_extension": ".py",
   "mimetype": "text/x-python",
   "name": "python",
   "nbconvert_exporter": "python",
   "pygments_lexer": "ipython3",
   "version": "3.11.5"
  }
 },
 "nbformat": 4,
 "nbformat_minor": 5
}
