{
 "cells": [
  {
   "cell_type": "code",
   "execution_count": 1,
   "id": "8f7c4079-3c20-42ad-a0b6-6a76a1b5b706",
   "metadata": {},
   "outputs": [
    {
     "name": "stdout",
     "output_type": "stream",
     "text": [
      "\n",
      "With this date object, create a series with datetime index:\n",
      " 2020-01-05    0.398449\n",
      "2020-01-10    0.869496\n",
      "2020-01-15   -0.461575\n",
      "2020-01-20    1.092845\n",
      "2020-01-25    0.045967\n",
      "dtype: float64\n"
     ]
    }
   ],
   "source": [
    "import pandas as pd\n",
    "import numpy as np\n",
    "from datetime import datetime\n",
    "dates = [datetime(2020,1,5),\n",
    "         datetime(2020,1,10),\n",
    "         datetime(2020,1,15),\n",
    "         datetime(2020,1,20),\n",
    "         datetime(2020,1,25)]\n",
    "ts = pd.Series(np.random.randn(5), index=dates)\n",
    "print(\"\\nWith this date object, create a series with datetime index:\\n\",ts)"
   ]
  },
  {
   "cell_type": "code",
   "execution_count": 3,
   "id": "6d7d44c0-d71f-4d35-8d32-1f3e1b8714c3",
   "metadata": {},
   "outputs": [
    {
     "name": "stdout",
     "output_type": "stream",
     "text": [
      "\n",
      "Truncate method to truncate datetime series \n",
      " 2020-01-05    0.398449\n",
      "2020-01-10    0.869496\n",
      "2020-01-15   -0.461575\n",
      "dtype: float64\n"
     ]
    }
   ],
   "source": [
    "res=ts.truncate(after=\"1/15/2020\")\n",
    "print(\"\\nTruncate method to truncate datetime series \\n\", res)"
   ]
  },
  {
   "cell_type": "code",
   "execution_count": 5,
   "id": "5f25178f-bc3a-4368-a3fd-15bf110d30af",
   "metadata": {},
   "outputs": [
    {
     "name": "stdout",
     "output_type": "stream",
     "text": [
      "\n",
      "Date range with day periods.\n",
      " DatetimeIndex(['2022-10-02', '2022-10-09', '2022-10-16', '2022-10-23',\n",
      "               '2022-10-30', '2022-11-06', '2022-11-13', '2022-11-20',\n",
      "               '2022-11-27', '2022-12-04'],\n",
      "              dtype='datetime64[ns]', freq='W-SUN')\n"
     ]
    }
   ],
   "source": [
    "da=pd.date_range(\"10/1/2022\", periods=10, freq=\"W-SUN\")\n",
    "print(\"\\nDate range with day periods.\\n\",da)"
   ]
  },
  {
   "cell_type": "code",
   "execution_count": 7,
   "id": "ecce07c2-8d59-4b13-803c-30da1fee4ec9",
   "metadata": {},
   "outputs": [
    {
     "name": "stdout",
     "output_type": "stream",
     "text": [
      "\n",
      "Duplicate datetime index:\n",
      " 2020-01-01    0\n",
      "2020-01-02    1\n",
      "2020-01-02    2\n",
      "2020-01-02    3\n",
      "2020-01-03    4\n",
      "dtype: int32\n"
     ]
    }
   ],
   "source": [
    "date=pd.DatetimeIndex([\"1/1/2020\",\"1/2/2020\",\"1/2/2020\",\"1/2/2020\",\"1/3/2020\"])\n",
    "ts1=pd.Series(np.arange(5), index=date)\n",
    "print(\"\\nDuplicate datetime index:\\n\",ts1)"
   ]
  },
  {
   "cell_type": "code",
   "execution_count": 9,
   "id": "9902ce08-8524-400e-9b02-9d81d9eacc5d",
   "metadata": {},
   "outputs": [
    {
     "name": "stdout",
     "output_type": "stream",
     "text": [
      "\n",
      "Repeated date counts:\n",
      " 2020-01-01    1\n",
      "2020-01-02    3\n",
      "2020-01-03    1\n",
      "dtype: int64\n"
     ]
    }
   ],
   "source": [
    "group=ts1.groupby(level=0)\n",
    "print(\"\\nRepeated date counts:\\n\",group.count())"
   ]
  },
  {
   "cell_type": "code",
   "execution_count": 11,
   "id": "444df7a7-6653-4c74-a9e3-083da4b3e719",
   "metadata": {},
   "outputs": [
    {
     "name": "stdout",
     "output_type": "stream",
     "text": [
      "\n",
      "Multi-column DataFrame with datatime index:\n",
      "                    A         B         C         D\n",
      "2022-10-02 -0.671028  0.796157  2.137621  0.561937\n",
      "2022-10-09  1.232378  0.987370  1.524865 -0.178731\n",
      "2022-10-16 -1.074247  0.133265  1.006451 -0.449543\n",
      "2022-10-23  1.721225  1.218203 -1.101132 -0.544556\n",
      "2022-10-30  0.457382  0.126444 -0.171814 -0.435341\n",
      "2022-11-06 -2.281774 -0.702098 -0.019397 -2.523973\n",
      "2022-11-13 -0.707228 -0.031628 -1.079232  1.035652\n",
      "2022-11-20 -1.778320  1.209257  0.975101 -1.611345\n",
      "2022-11-27  1.159734 -1.174042  1.557031  1.785762\n",
      "2022-12-04 -1.753493  0.420883  2.021737 -0.643874\n"
     ]
    }
   ],
   "source": [
    "long_df=pd.DataFrame(np.random.randn(10,4),index=da,columns=list(\"ABCD\"))\n",
    "print(\"\\nMulti-column DataFrame with datatime index:\\n\",long_df)"
   ]
  }
 ],
 "metadata": {
  "kernelspec": {
   "display_name": "Python [conda env:base] *",
   "language": "python",
   "name": "conda-base-py"
  },
  "language_info": {
   "codemirror_mode": {
    "name": "ipython",
    "version": 3
   },
   "file_extension": ".py",
   "mimetype": "text/x-python",
   "name": "python",
   "nbconvert_exporter": "python",
   "pygments_lexer": "ipython3",
   "version": "3.12.7"
  }
 },
 "nbformat": 4,
 "nbformat_minor": 5
}
