{
 "cells": [
  {
   "cell_type": "code",
   "execution_count": 1,
   "id": "3e79be57-dd76-4a54-bd4f-23b2d609a78e",
   "metadata": {},
   "outputs": [
    {
     "name": "stdout",
     "output_type": "stream",
     "text": [
      "Before: \n",
      "\n",
      "    Age\n",
      "0    42\n",
      "1    15\n",
      "2    67\n",
      "3    55\n",
      "4     1\n",
      "5    29\n",
      "6    75\n",
      "7    89\n",
      "8     4\n",
      "9    10\n",
      "10   15\n",
      "11   38\n",
      "12   22\n",
      "13   77\n",
      "After: \n",
      "\n",
      "    Age         Label\n",
      "0    42         Adult\n",
      "1    15         Child\n",
      "2    67       Elderly\n",
      "3    55         Adult\n",
      "4     1  Baby/Toddler\n",
      "5    29         Adult\n",
      "6    75       Elderly\n",
      "7    89       Elderly\n",
      "8     4         Child\n",
      "9    10         Child\n",
      "10   15         Child\n",
      "11   38         Adult\n",
      "12   22         Adult\n",
      "13   77       Elderly\n",
      "Categories: \n",
      "\n",
      "Label\n",
      "Adult           5\n",
      "Child           4\n",
      "Elderly         4\n",
      "Baby/Toddler    1\n",
      "Name: count, dtype: int64\n"
     ]
    }
   ],
   "source": [
    "import pandas as pd\n",
    "import numpy as np\n",
    "df = pd.DataFrame({'Age': [42, 15, 67, 55, 1, 29, 75, 89, 4, 10, 15, 38, 22, 77]})\n",
    "print(\"Before: \\n\")\n",
    "print(df)\n",
    "df['Label'] = pd.cut(x=df['Age'], bins=[0, 3, 17, 63, 99], labels=['Baby/Toddler', 'Child','Adult','Elderly'])\n",
    "print(\"After: \\n\")\n",
    "print(df)\n",
    "print(\"Categories: \\n\")\n",
    "print(df['Label'].value_counts())"
   ]
  }
 ],
 "metadata": {
  "kernelspec": {
   "display_name": "Python [conda env:base] *",
   "language": "python",
   "name": "conda-base-py"
  },
  "language_info": {
   "codemirror_mode": {
    "name": "ipython",
    "version": 3
   },
   "file_extension": ".py",
   "mimetype": "text/x-python",
   "name": "python",
   "nbconvert_exporter": "python",
   "pygments_lexer": "ipython3",
   "version": "3.12.7"
  }
 },
 "nbformat": 4,
 "nbformat_minor": 5
}
