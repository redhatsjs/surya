{
 "cells": [
  {
   "cell_type": "code",
   "execution_count": 1,
   "id": "dfacaee1",
   "metadata": {},
   "outputs": [
    {
     "name": "stdout",
     "output_type": "stream",
     "text": [
      "Original DataFrame:\n",
      "          A      B  C  D\n",
      "0      Abi    one  1  4\n",
      "1     Babu    two  5  3\n",
      "2  Charles  three  2  0\n",
      "3   Darwin    one  5  0\n",
      "4      Abi    two  5  6\n",
      "5  Charles  three  5  0\n",
      "6   Darwin    one  3  0\n"
     ]
    }
   ],
   "source": [
    "import pandas as pd\n",
    "import numpy as np\n",
    "#create df with duplicates\n",
    "df=pd.DataFrame({'A':['Abi','Babu','Charles','Darwin','Abi','Charles','Darwin'],\n",
    "                 'B':['one','two','three','one','two','three','one'],\n",
    "                'C':np.random.randint(7,size=7),\n",
    "                 'D':np.random.randint(7,size=7)})\n",
    "print(\"Original DataFrame:\\n\",df)"
   ]
  },
  {
   "cell_type": "code",
   "execution_count": 7,
   "id": "fc6eb958",
   "metadata": {},
   "outputs": [
    {
     "name": "stdout",
     "output_type": "stream",
     "text": [
      "Original df:\n",
      "          A      B  C  D\n",
      "0      Abi    one  1  4\n",
      "1     Babu    two  5  3\n",
      "2  Charles  three  2  0\n",
      "3   Darwin    one  5  0\n",
      "4      Abi    two  5  6\n",
      "5  Charles  three  5  0\n",
      "6   Darwin    one  3  0\n",
      "\n",
      "Grouped df with one column sum:\n",
      "          A  C\n",
      "0      Abi  6\n",
      "1     Babu  5\n",
      "2  Charles  7\n",
      "3   Darwin  8\n"
     ]
    }
   ],
   "source": [
    "#Grouping with one column sum\n",
    "df1=df.groupby(['A'], as_index=False)['C'].sum()\n",
    "print(\"Original df:\\n\",df)\n",
    "print(\"\\nGrouped df with one column sum:\\n\",df1)"
   ]
  },
  {
   "cell_type": "code",
   "execution_count": 8,
   "id": "5fd9b44b",
   "metadata": {},
   "outputs": [
    {
     "name": "stdout",
     "output_type": "stream",
     "text": [
      "\n",
      "Grouped df with multiple column sum:\n",
      "          A      B  C\n",
      "0      Abi    one  1\n",
      "1      Abi    two  5\n",
      "2     Babu    two  5\n",
      "3  Charles  three  7\n",
      "4   Darwin    one  8\n"
     ]
    }
   ],
   "source": [
    "#grouping with multiple columns\n",
    "df2=df.groupby(['A','B'], as_index=False)['C'].sum()\n",
    "print(\"\\nGrouped df with multiple column sum:\\n\",df2)"
   ]
  },
  {
   "cell_type": "code",
   "execution_count": 16,
   "id": "f7b61dc1",
   "metadata": {},
   "outputs": [
    {
     "name": "stdout",
     "output_type": "stream",
     "text": [
      "         A           B  C   D\n",
      "0      Abi      onetwo  6  10\n",
      "1     Babu         two  5   3\n",
      "2  Charles  threethree  7   0\n",
      "3   Darwin      oneone  8   0\n"
     ]
    }
   ],
   "source": [
    "#[C]is not mentioned\n",
    "df3=df.groupby(['A'], as_index=False).sum()\n",
    "print(df3)"
   ]
  },
  {
   "cell_type": "code",
   "execution_count": 23,
   "id": "2af1b2b3",
   "metadata": {},
   "outputs": [
    {
     "name": "stdout",
     "output_type": "stream",
     "text": [
      "         A      B  C  D\n",
      "0      Abi    one  1  4\n",
      "1      Abi    two  5  6\n",
      "2     Babu    two  5  3\n",
      "3  Charles  three  7  0\n",
      "4   Darwin    one  8  0\n"
     ]
    }
   ],
   "source": [
    "df4=df.groupby(['A','B'], as_index=False).sum()\n",
    "print(df4)"
   ]
  },
  {
   "cell_type": "code",
   "execution_count": 22,
   "id": "a24e2ffe",
   "metadata": {},
   "outputs": [
    {
     "name": "stdout",
     "output_type": "stream",
     "text": [
      "         A      B  C  D\n",
      "0      Abi    one  1  4\n",
      "1      Abi    two  5  6\n",
      "2     Babu    two  5  3\n",
      "3  Charles  three  7  0\n",
      "4   Darwin    one  8  0\n"
     ]
    }
   ],
   "source": [
    "df5=df.groupby(['A','B'],as_index=False)[['C','D']].sum()\n",
    "print(df5)"
   ]
  },
  {
   "cell_type": "code",
   "execution_count": 29,
   "id": "52bd69ed",
   "metadata": {},
   "outputs": [
    {
     "name": "stdout",
     "output_type": "stream",
     "text": [
      "  Category  Sales  Profit\n",
      "0        A    100      10\n",
      "1        B    200      15\n",
      "2        C    150      20\n",
      "3        A    150      25\n",
      "4        B    130      30\n",
      "5        C    200      15\n",
      "         Sales        Profit    \n",
      "           sum   mean    sum max\n",
      "Category                        \n",
      "A          250  125.0     35  25\n",
      "B          330  165.0     45  30\n",
      "C          350  175.0     35  20\n"
     ]
    }
   ],
   "source": [
    "#Using groupby() with agg()\n",
    "import pandas as pd\n",
    "df=pd.DataFrame({'Category':['A','B','C','A','B','C'],\n",
    "                'Sales':[100,200,150,150,130,200],\n",
    "                'Profit':[10,15,20,25,30,15]})\n",
    "print(df)\n",
    "df1=df.groupby('Category').agg({'Sales':['sum','mean'],'Profit':['sum','max']})\n",
    "print(df1)"
   ]
  },
  {
   "cell_type": "code",
   "execution_count": 31,
   "id": "bd07b9b8",
   "metadata": {},
   "outputs": [
    {
     "name": "stdout",
     "output_type": "stream",
     "text": [
      "  Student  Marks  Attendance\n",
      "0       A     90         100\n",
      "1       B     76          90\n",
      "2       C     88          56\n",
      "3       A     78          75\n",
      "4       B     67          60\n",
      "5       C     90          90\n",
      "        Marks           Attendance           \n",
      "          sum max  mean       mean        std\n",
      "Student                                      \n",
      "A         168  90  84.0       87.5  17.677670\n",
      "B         143  76  71.5       75.0  21.213203\n",
      "C         178  90  89.0       73.0  24.041631\n"
     ]
    }
   ],
   "source": [
    "df=pd.DataFrame({'Student':['A','B','C','A','B','C'],\n",
    "                'Marks':[90,76,88,78,67,90],\n",
    "                'Attendance':[100,90,56,75,60,90]})\n",
    "print(df)\n",
    "df1=df.groupby('Student').agg({'Marks':['sum','max','mean'],'Attendance':['mean','std']})\n",
    "print(df1)"
   ]
  },
  {
   "cell_type": "code",
   "execution_count": null,
   "id": "fcaa8237",
   "metadata": {},
   "outputs": [],
   "source": []
  }
 ],
 "metadata": {
  "kernelspec": {
   "display_name": "Python 3 (ipykernel)",
   "language": "python",
   "name": "python3"
  },
  "language_info": {
   "codemirror_mode": {
    "name": "ipython",
    "version": 3
   },
   "file_extension": ".py",
   "mimetype": "text/x-python",
   "name": "python",
   "nbconvert_exporter": "python",
   "pygments_lexer": "ipython3",
   "version": "3.11.5"
  }
 },
 "nbformat": 4,
 "nbformat_minor": 5
}
