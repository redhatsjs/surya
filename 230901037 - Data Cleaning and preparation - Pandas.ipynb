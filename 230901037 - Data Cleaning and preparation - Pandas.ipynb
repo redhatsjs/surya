{
 "cells": [
  {
   "cell_type": "code",
   "execution_count": 3,
   "id": "3c53f9d2",
   "metadata": {},
   "outputs": [
    {
     "name": "stdout",
     "output_type": "stream",
     "text": [
      "Original dataframe with NaN\n",
      "         one       two     three\n",
      "a -0.831753  0.295343 -0.202132\n",
      "b -0.261707  0.900825 -0.475135\n",
      "c       NaN       NaN       NaN\n",
      "d -1.398241  0.211079 -0.492954\n",
      "e       NaN       NaN       NaN\n",
      "f -0.247728 -1.195857  0.182530\n",
      "\n",
      "\n",
      "Droped Dataframe\n",
      "         one       two     three\n",
      "a -0.831753  0.295343 -0.202132\n",
      "b -0.261707  0.900825 -0.475135\n",
      "d -1.398241  0.211079 -0.492954\n",
      "f -0.247728 -1.195857  0.182530\n",
      "\n",
      "\n",
      "NaN replaced with '1':\n",
      "\n",
      "        one       two     three\n",
      "a -0.831753  0.295343 -0.202132\n",
      "b -0.261707  0.900825 -0.475135\n",
      "c  1.000000  1.000000  1.000000\n",
      "d -1.398241  0.211079 -0.492954\n",
      "e  1.000000  1.000000  1.000000\n",
      "f -0.247728 -1.195857  0.182530\n"
     ]
    }
   ],
   "source": [
    "import pandas as pd\n",
    "import numpy as np\n",
    "df=pd.DataFrame(np.random.randn(4,3),index=['a','b','d','f'],columns=['one','two','three'])\n",
    "df=df.reindex(['a','b','c','d','e','f'])\n",
    "print(\"Original dataframe with NaN\\n\",df)\n",
    "print(\"\\n\")\n",
    "print(\"Droped Dataframe\\n\",df.dropna())\n",
    "print(\"\\n\")\n",
    "print(\"NaN replaced with '1':\\n\")\n",
    "print(df.fillna(1))"
   ]
  },
  {
   "cell_type": "code",
   "execution_count": 7,
   "id": "3e234c19",
   "metadata": {},
   "outputs": [
    {
     "name": "stdout",
     "output_type": "stream",
     "text": [
      "NaN with True Fill:\n",
      "\n",
      "a    False\n",
      "b    False\n",
      "c     True\n",
      "d    False\n",
      "e     True\n",
      "f    False\n",
      "Name: one, dtype: bool\n"
     ]
    }
   ],
   "source": [
    "import pandas as pd\n",
    "import numpy as np\n",
    "df=pd.DataFrame(np.random.randn(4,3),index=['a','b','d','f'],columns=['one','two','three'])\n",
    "df=df.reindex(['a','b','c','d','e','f'])\n",
    "print(\"NaN with True Fill:\\n\")\n",
    "print(df['one'].isnull())#prints true if NaN is there"
   ]
  },
  {
   "cell_type": "code",
   "execution_count": 13,
   "id": "33f856de",
   "metadata": {},
   "outputs": [
    {
     "name": "stdout",
     "output_type": "stream",
     "text": [
      "NaN filled with background values:\n",
      "\n",
      "        one       two     three\n",
      "a  1.146313  0.671651 -0.442012\n",
      "b -0.990522 -1.165514  2.004817\n",
      "c -1.724100  1.099339  1.445647\n",
      "d -1.724100  1.099339  1.445647\n",
      "e -0.531620  0.564976  2.266509\n",
      "f -0.531620  0.564976  2.266509\n"
     ]
    }
   ],
   "source": [
    "import pandas as pd\n",
    "import numpy as np\n",
    "df=pd.DataFrame(np.random.randn(4,3),index=['a','b','d','f'],columns=['one','two','three'])\n",
    "df=df.reindex(['a','b','c','d','e','f'])\n",
    "print(\"NaN filled with background values:\\n\")\n",
    "print(df.bfill())#backfill"
   ]
  },
  {
   "cell_type": "code",
   "execution_count": 11,
   "id": "a3d32177",
   "metadata": {},
   "outputs": [
    {
     "name": "stdout",
     "output_type": "stream",
     "text": [
      "NaN filled with foreground values:\n",
      "\n",
      "        one       two     three\n",
      "a  0.673582  0.050569 -1.039491\n",
      "b -1.260888  0.213760 -0.241731\n",
      "c -1.260888  0.213760 -0.241731\n",
      "d -0.791382 -1.598773 -0.184952\n",
      "e -0.791382 -1.598773 -0.184952\n",
      "f  0.091394  1.006954  0.269622\n"
     ]
    }
   ],
   "source": [
    "import pandas as pd\n",
    "import numpy as np\n",
    "df=pd.DataFrame(np.random.randn(4,3),index=['a','b','d','f'],columns=['one','two','three'])\n",
    "df=df.reindex(['a','b','c','d','e','f'])\n",
    "print(\"NaN filled with foreground values:\\n\")\n",
    "print(df.ffill())"
   ]
  },
  {
   "cell_type": "code",
   "execution_count": 14,
   "id": "4a04bbf9",
   "metadata": {},
   "outputs": [
    {
     "name": "stdout",
     "output_type": "stream",
     "text": [
      "Original datframe:\n",
      "    one  two\n",
      "0   10   60\n",
      "1   20   70\n",
      "2   80   80\n",
      "3   40    0\n",
      "4   50   10\n",
      "\n",
      "Dataframe with replaced values:\n",
      "\n",
      "   one  two\n",
      "0    5   60\n",
      "1   20   70\n",
      "2   30   30\n",
      "3   40    0\n",
      "4   50    5\n"
     ]
    }
   ],
   "source": [
    "df=pd.DataFrame({'one':[10,20,80,40,50],'two':[60,70,80,0,10]})\n",
    "print(\"Original datframe:\\n\",df)\n",
    "print(\"\\nDataframe with replaced values:\\n\")\n",
    "print(df.replace({10:5,80:30}))"
   ]
  }
 ],
 "metadata": {
  "kernelspec": {
   "display_name": "Python 3 (ipykernel)",
   "language": "python",
   "name": "python3"
  },
  "language_info": {
   "codemirror_mode": {
    "name": "ipython",
    "version": 3
   },
   "file_extension": ".py",
   "mimetype": "text/x-python",
   "name": "python",
   "nbconvert_exporter": "python",
   "pygments_lexer": "ipython3",
   "version": "3.11.5"
  }
 },
 "nbformat": 4,
 "nbformat_minor": 5
}
