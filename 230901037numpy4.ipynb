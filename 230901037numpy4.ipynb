{
 "cells": [
  {
   "cell_type": "code",
   "execution_count": 4,
   "id": "b9ad1cbb",
   "metadata": {},
   "outputs": [
    {
     "name": "stdout",
     "output_type": "stream",
     "text": [
      "[20 40 50 70 10]\n",
      "[6 2 9 7 1]\n",
      "[26 42 59 77 11]\n",
      "[14 38 41 63  9]\n",
      "[120  80 450 490  10]\n",
      "[ 3.33333333 20.          5.55555556 10.         10.        ]\n",
      "1150\n"
     ]
    }
   ],
   "source": [
    "import numpy as np\n",
    "x=[20,40,50,70,10]\n",
    "y=[6,2,9,7,1]\n",
    "a=np.array(x)\n",
    "b=np.array(y)\n",
    "print(a)\n",
    "print(b)\n",
    "print(a+b)\n",
    "print(a-b)\n",
    "print(a*b)\n",
    "print(a/b)\n",
    "print(a.dot(b)) #Dot Product"
   ]
  },
  {
   "cell_type": "code",
   "execution_count": 7,
   "id": "08d8170c",
   "metadata": {},
   "outputs": [
    {
     "name": "stdout",
     "output_type": "stream",
     "text": [
      "Scalar: 3\n",
      "Array: [20 40 50 70 10]\n",
      "Result: [ 60 120 150 210  30]\n"
     ]
    }
   ],
   "source": [
    "#Scalar multiplication\n",
    "import numpy as np\n",
    "a=np.array([20,40,50,70,10])\n",
    "b=3\n",
    "print(\"Scalar:\",b)\n",
    "print(\"Array:\",a)\n",
    "print(\"Result:\",a*b)"
   ]
  },
  {
   "cell_type": "code",
   "execution_count": 8,
   "id": "c9040b8e",
   "metadata": {
    "scrolled": true
   },
   "outputs": [
    {
     "name": "stdout",
     "output_type": "stream",
     "text": [
      "[[1 6]\n",
      " [0 4]]\n"
     ]
    }
   ],
   "source": [
    "import numpy as np\n",
    "a=np.array(([10,20],[30,40]))\n",
    "b=np.array(([3,7],[5,9]))\n",
    "print(a%b) #To display remainder"
   ]
  },
  {
   "cell_type": "code",
   "execution_count": 10,
   "id": "5c4d732c",
   "metadata": {},
   "outputs": [
    {
     "name": "stdout",
     "output_type": "stream",
     "text": [
      "Array1: [10, 7, 2]\n",
      "Array2: [6, 5, 3]\n",
      "Result: [4 2 5]\n"
     ]
    }
   ],
   "source": [
    "def fn(x,y):\n",
    "    if x>y:\n",
    "        return x-y\n",
    "    else:\n",
    "        return x+y\n",
    "a=[10,7,2]\n",
    "b=[6,5,3]\n",
    "vect_fn=np.vectorize(fn)\n",
    "print(\"Array1:\",a)\n",
    "print(\"Array2:\",b)\n",
    "print(\"Result:\",vect_fn(a,b))"
   ]
  }
 ],
 "metadata": {
  "kernelspec": {
   "display_name": "Python 3 (ipykernel)",
   "language": "python",
   "name": "python3"
  },
  "language_info": {
   "codemirror_mode": {
    "name": "ipython",
    "version": 3
   },
   "file_extension": ".py",
   "mimetype": "text/x-python",
   "name": "python",
   "nbconvert_exporter": "python",
   "pygments_lexer": "ipython3",
   "version": "3.11.5"
  }
 },
 "nbformat": 4,
 "nbformat_minor": 5
}
