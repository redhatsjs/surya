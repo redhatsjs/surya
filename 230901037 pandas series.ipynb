{
 "cells": [
  {
   "cell_type": "code",
   "execution_count": 1,
   "id": "e03d165b",
   "metadata": {},
   "outputs": [
    {
     "name": "stdout",
     "output_type": "stream",
     "text": [
      "0    i\n",
      "1    e\n",
      "2    f\n",
      "3    f\n",
      "4    i\n",
      "5    o\n",
      "dtype: object\n"
     ]
    }
   ],
   "source": [
    "import  pandas as pd\n",
    "import numpy as np\n",
    "a=np.array(['i','e','f','f','i','o'])\n",
    "b=pd.Series(a)\n",
    "print(b)"
   ]
  },
  {
   "cell_type": "code",
   "execution_count": 2,
   "id": "ba3a8d0c",
   "metadata": {},
   "outputs": [
    {
     "name": "stdout",
     "output_type": "stream",
     "text": [
      "a    0\n",
      "b    1\n",
      "c    2\n",
      "dtype: int64\n"
     ]
    }
   ],
   "source": [
    "import pandas as pd\n",
    "import numpy as np\n",
    "a={'a':0,'b':1,'c':2}\n",
    "b=pd.Series(a)\n",
    "print(b)"
   ]
  },
  {
   "cell_type": "code",
   "execution_count": 3,
   "id": "2e8bb570",
   "metadata": {},
   "outputs": [
    {
     "name": "stdout",
     "output_type": "stream",
     "text": [
      "0    4\n",
      "1    4\n",
      "2    4\n",
      "3    4\n",
      "dtype: int64\n"
     ]
    }
   ],
   "source": [
    "import pandas as pd\n",
    "import numpy as np\n",
    "scalar=pd.Series(4,index=[0,1,2,3])\n",
    "print(scalar)"
   ]
  },
  {
   "cell_type": "code",
   "execution_count": 4,
   "id": "4c4fca79",
   "metadata": {},
   "outputs": [
    {
     "name": "stdout",
     "output_type": "stream",
     "text": [
      "Series:\n",
      " a    0\n",
      "b    1\n",
      "c    2\n",
      "dtype: int64\n",
      "\n",
      "Index:\n",
      " Index(['a', 'b', 'c'], dtype='object')\n",
      "\n",
      "Values:\n",
      " [0 1 2]\n",
      "\n",
      "Shape: (3,)\n",
      "\n",
      "Dimension: 1\n",
      "\n",
      "Size: 3\n"
     ]
    }
   ],
   "source": [
    "import pandas as pd\n",
    "import numpy as np\n",
    "a=pd.Series({'a':0,'b':1,'c':2})\n",
    "print(\"Series:\\n\",a)\n",
    "print(\"\\nIndex:\\n\",a.index)\n",
    "print(\"\\nValues:\\n\",a.values)\n",
    "print(\"\\nShape:\",a.shape)\n",
    "print(\"\\nDimension:\",a.ndim)\n",
    "print(\"\\nSize:\",a.size)"
   ]
  },
  {
   "cell_type": "code",
   "execution_count": null,
   "id": "eb7b3c6e",
   "metadata": {},
   "outputs": [],
   "source": []
  }
 ],
 "metadata": {
  "kernelspec": {
   "display_name": "Python 3 (ipykernel)",
   "language": "python",
   "name": "python3"
  },
  "language_info": {
   "codemirror_mode": {
    "name": "ipython",
    "version": 3
   },
   "file_extension": ".py",
   "mimetype": "text/x-python",
   "name": "python",
   "nbconvert_exporter": "python",
   "pygments_lexer": "ipython3",
   "version": "3.11.5"
  }
 },
 "nbformat": 4,
 "nbformat_minor": 5
}
