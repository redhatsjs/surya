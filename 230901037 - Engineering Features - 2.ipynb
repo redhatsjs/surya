{
 "cells": [
  {
   "cell_type": "code",
   "execution_count": 1,
   "id": "39f89c11-23f9-4a9a-bb89-f3bd8a74f330",
   "metadata": {},
   "outputs": [
    {
     "name": "stdout",
     "output_type": "stream",
     "text": [
      "Before:\n",
      "    Height\n",
      "0    150.4\n",
      "1    157.6\n",
      "2    170.0\n",
      "3    176.0\n",
      "4    164.2\n",
      "5    155.0\n",
      "6    159.2\n",
      "7    175.0\n",
      "8    162.4\n",
      "9    176.0\n",
      "10   153.0\n",
      "11   170.9\n",
      "\n",
      "After:\n",
      "    Height    Label\n",
      "0    150.4    Short\n",
      "1    157.6  Average\n",
      "2    170.0     Tall\n",
      "3    176.0     Tall\n",
      "4    164.2  Average\n",
      "5    155.0    Short\n",
      "6    159.2  Average\n",
      "7    175.0     Tall\n",
      "8    162.4  Average\n",
      "9    176.0     Tall\n",
      "10   153.0    Short\n",
      "11   170.9     Tall\n"
     ]
    }
   ],
   "source": [
    "import pandas as pd\n",
    "import numpy as np\n",
    "df = pd.DataFrame({'Height': [150.4, 157.6, 170, 176, 164.2, 155, 159.2, 175, 162.4, 176, 153, 170.9]})\n",
    "print(\"Before:\")\n",
    "print(df)\n",
    "df['Label'] = pd.cut(x=df['Height'], bins=[150, 157, 169, 180], labels=['Short', 'Average', 'Tall'])\n",
    "print(\"\\nAfter:\")\n",
    "print(df)"
   ]
  }
 ],
 "metadata": {
  "kernelspec": {
   "display_name": "Python [conda env:base] *",
   "language": "python",
   "name": "conda-base-py"
  },
  "language_info": {
   "codemirror_mode": {
    "name": "ipython",
    "version": 3
   },
   "file_extension": ".py",
   "mimetype": "text/x-python",
   "name": "python",
   "nbconvert_exporter": "python",
   "pygments_lexer": "ipython3",
   "version": "3.12.7"
  }
 },
 "nbformat": 4,
 "nbformat_minor": 5
}
